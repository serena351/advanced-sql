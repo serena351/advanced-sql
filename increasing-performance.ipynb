{
 "cells": [
  {
   "cell_type": "markdown",
   "metadata": {},
   "source": [
    "![Digital Futures](https://github.com/digital-futures-academy/DataScienceMasterResources/blob/main/Resources/datascience-notebook-header.png?raw=true)"
   ]
  },
  {
   "cell_type": "markdown",
   "metadata": {},
   "source": [
    "## Learner Stories\n",
    "\n",
    "```txt\n",
    "As a DATA PROFESSIONAL,  \n",
    "I want to be able to avoid common performance pitfalls like SELECT * and inefficient joins,  \n",
    "so that I can write performant and scalable SQL queries\n",
    "```"
   ]
  },
  {
   "cell_type": "markdown",
   "metadata": {},
   "source": [
    "## The Need for Performance Optimisation\n",
    "\n",
    "We have previously looked at ***indexing*** as a strategy for improving the performance of SQL queries, where we reduced the execution time significantly by creating indexes on the columns that are frequently used in the WHERE clause of our queries.  But why do we care?  What else can we do to optimise our queries?\n",
    "\n",
    "### Why Performance Optimisation?\n",
    "\n",
    "1. ***Efficiency and Speed***:\n",
    "    - *Reduced Latency:* Optimized queries execute faster, reducing the time it takes to process data. This is especially important in real-time or near-real-time data pipelines where timely data processing is critical.\n",
    "    - *Resource Utilization:* Efficient queries use fewer computational resources (CPU, memory, I/O), allowing the system to handle more queries simultaneously and reducing the overall load on the database.\n",
    "2. Scalability\n",
    "    - *Handling Large Datasets:* As data volumes grow, poorly optimized queries can become bottlenecks, slowing down the entire pipeline. Optimized queries ensure that the pipeline can scale to handle increasing amounts of data without significant performance degradation.\n",
    "    - *Cost Management:* In cloud environments, resource usage directly impacts costs. Efficient queries reduce the need for additional resources, helping to manage and reduce operational costs.\n",
    "3. Reliability and Stability\n",
    "    - *Avoiding Timeouts and Failures:* Inefficient queries can lead to timeouts, crashes, or failures, disrupting the data pipeline and causing data processing delays or loss.\n",
    "    - *Consistent Performance:* Optimized queries provide consistent performance, ensuring that the data pipeline operates smoothly and predictably under varying loads.\n",
    "4. Data Quality and Accuracy\n",
    "    - *Timely Data Processing:* Fast and efficient queries ensure that data is processed and available for analysis or reporting in a timely manner, maintaining the relevance and accuracy of the data.\n",
    "    - *Minimized Errors:* Efficient queries reduce the likelihood of errors caused by resource exhaustion or timeouts, contributing to higher data quality.\n",
    "5. User Experience\n",
    "    - *Faster Insights:* For end-users and analysts, optimized queries mean faster access to insights and reports, improving decision-making and responsiveness.\n",
    "    - *Improved Interactivity:* In interactive data applications, such as dashboards, efficient queries provide a smoother and more responsive user experience.\n",
    "6. Maintainability and Future-Proofing\n",
    "    - *Easier Troubleshooting:* Optimized queries are often more readable and maintainable, making it easier to troubleshoot and optimize further if needed.\n",
    "    - *Adaptability:* Well-optimized queries are more adaptable to changes in data volume, schema, or infrastructure, ensuring the pipeline remains robust and efficient over time.\n",
    "\n",
    "> Optimized, performant queries are essential in a data pipeline to ensure efficiency, scalability, reliability, data quality, user experience, and maintainability.  \n",
    "> By focusing on query optimization, data professionals can build robust and scalable data pipelines that meet the demands of modern data processing and analysis."
   ]
  },
  {
   "cell_type": "markdown",
   "metadata": {},
   "source": [
    "---"
   ]
  },
  {
   "cell_type": "markdown",
   "metadata": {},
   "source": [
    "# COMMON PERFORMANCE PITFALS"
   ]
  },
  {
   "cell_type": "markdown",
   "metadata": {},
   "source": [
    "## 1. Avoiding `SELECT *`"
   ]
  },
  {
   "cell_type": "markdown",
   "metadata": {},
   "source": [
    "- **Problem**: Selecting all columns using `SELECT *` can lead to unnecessary data transfer and processing overhead.\n",
    "- **Solution**: Explicitly list the columns you need in the `SELECT` statement.\n",
    "\n",
    "#### Bad Practice\n",
    "\n",
    "```sql\n",
    "SELECT * \n",
    "FROM customers\n",
    "WHERE customer_id = 1;\n",
    "```\n",
    "\n",
    "#### Why it should be avoided\n",
    "\n",
    "- **Performance**: Fetching all columns can be inefficient, especially if the table has many columns and you only need a few.\n",
    "- **Readability**: It is not clear which columns are being used in the query.\n",
    "- **Maintenance**: If the table schema changes, the query might break or return unexpected results.\n",
    "\n",
    "#### Better Practice\n",
    "\n",
    "```sql\n",
    "SELECT customer_id, name, email\n",
    "FROM customers\n",
    "WHERE customer_id = 1;\n",
    "```\n",
    "#### Benefits\n",
    "\n",
    "- **Performance**: Only the necessary columns are fetched, reducing the amount of data transferred.\n",
    "- **Readability**: It is clear which columns are being used.\n",
    "- **Maintenance**: The query is less likely to break if the table schema changes.\n",
    "\n",
    "#### What if all the columns seem to be needed?\n",
    "\n",
    "Even if all columns are needed, it is generally recommended to avoid using `SELECT *` for several reasons:\n",
    "\n",
    "- **Explicitness**: Specifying the columns explicitly makes the query more readable and understandable. It is clear which columns are being used.\n",
    "- **Schema Changes**: If the table schema changes (e.g. columns are added or removed), using `SELECT *` can lead to unexpected results or break the application.\n",
    "- **Performance**: While fetching all columns might seem necessary, it can still be inefficient if the table has many columns, especially if some of them are large (e.g., `BLOB`s or `TEXT` fields).\n",
    "- **Linting and Best Practices**: Many SQL linting tools and best practice guidelines recommend against using `SELECT *` to encourage better coding practices."
   ]
  },
  {
   "cell_type": "markdown",
   "metadata": {},
   "source": [
    "### Quick Activity 1\n",
    "\n",
    "Trivial, but here it is:\n",
    "\n",
    "Rewrite the following query to avoid using `SELECT *`:\n",
    "\n",
    "```sql\n",
    "SELECT *\n",
    "FROM orders\n",
    "WHERE order_id = 123;\n",
    "```\n",
    "\n",
    "The table has columns `order_id`, `customer_id`, `order_date`, and `order_status`."
   ]
  },
  {
   "cell_type": "code",
   "execution_count": null,
   "metadata": {
    "vscode": {
     "languageId": "sql"
    }
   },
   "outputs": [],
   "source": [
    "--- Write SQL in this cell\n",
    "SELECT order_id, customer_id, order_date, order_status \n",
    "FROM orders \n",
    "WHERE order_id = 123;"
   ]
  },
  {
   "cell_type": "markdown",
   "metadata": {},
   "source": [
    "---"
   ]
  },
  {
   "cell_type": "markdown",
   "metadata": {},
   "source": [
    "## 2. Inefficient Joins"
   ]
  },
  {
   "cell_type": "markdown",
   "metadata": {},
   "source": [
    "- **Problem**: Inefficient join conditions can lead to slow query performance.\n",
    "- **Solution**: Use appropriate join conditions and ensure that the joined columns are indexed.\n",
    "\n",
    "#### Bad Practice\n",
    "\n",
    "```sql\n",
    "SELECT o.order_id, o.order_date, c.name, c.email\n",
    "FROM orders o\n",
    "JOIN customers c ON o.customer_id = c.customer_id\n",
    "WHERE c.customer_id = 1;\n",
    "```\n",
    "\n",
    "#### Why it is inefficient\n",
    "\n",
    "- **Unnecessary Data**: The join retrieves all columns from both tables, even if they are not needed.\n",
    "- **Filtering After Join**: Filtering on `customer_id` after the join can be less efficient.\n",
    "\n",
    "#### Better Practice\n",
    "\n",
    "```sql\n",
    "WITH filtered_customers AS (\n",
    "    SELECT customer_id, name, email\n",
    "    FROM customers\n",
    "    WHERE customer_id = 1\n",
    ")\n",
    "SELECT o.order_id, o.order_date, fc.name, fc.email\n",
    "FROM orders o\n",
    "JOIN filtered_customers fc ON o.customer_id = fc.customer_id;\n",
    "```\n",
    "\n",
    "#### Benefits\n",
    "\n",
    "- **Efficiency**: Filtering the customers table before the join reduces the number of rows involved in the join.\n",
    "- **Clarity**: The query is more readable and easier to understand."
   ]
  },
  {
   "cell_type": "markdown",
   "metadata": {},
   "source": [
    "### Quick Activity 2\n",
    "\n",
    "Rewrite the following query to improve the join efficiency:\n",
    "\n",
    "```sql\n",
    "SELECT o.order_id, o.order_date, c.customer_id, c.name, SUM(oi.quantity * p.price) AS total_amount\n",
    "FROM orders o\n",
    "JOIN customers c ON o.customer_id = c.customer_id\n",
    "JOIN order_items oi ON o.order_id = oi.order_id\n",
    "JOIN products p ON oi.product_id = p.product_id\n",
    "WHERE c.city = 'New York' AND p.category = 'Electronics'\n",
    "GROUP BY o.order_id, o.order_date, c.customer_id, c.name;\n",
    "```"
   ]
  },
  {
   "cell_type": "code",
   "execution_count": null,
   "metadata": {
    "vscode": {
     "languageId": "sql"
    }
   },
   "outputs": [],
   "source": [
    "--- Write SQL in this cell\n",
    "WITH ny_customers AS (\n",
    "    SELECT customer_id, name \n",
    "    FROM customers\n",
    "    WHERE city = 'New York'\n",
    "),\n",
    "elecs AS (\n",
    "    SELECT product_id, price\n",
    "    FROM \n",
    "    WHERE category = 'Electronics'\n",
    ")\n",
    "SELECT \n",
    "FROM\n",
    "JOIN"
   ]
  },
  {
   "cell_type": "markdown",
   "metadata": {},
   "source": [
    "---"
   ]
  },
  {
   "cell_type": "markdown",
   "metadata": {},
   "source": [
    "## 3. Lack of Indexes"
   ]
  },
  {
   "cell_type": "markdown",
   "metadata": {},
   "source": [
    "- **Problem**: Missing indexes on columns used in `WHERE`, `JOIN`, or `ORDER BY` clauses can result in slow query execution.\n",
    "- **Solution**: Create indexes on columns that are frequently used in filtering, joining, or sorting operations.\n",
    "\n",
    "#### Bad Practice\n",
    "\n",
    "```sql\n",
    "SELECT order_id, order_date\n",
    "FROM orders\n",
    "WHERE customer_id = 1;\n",
    "```\n",
    "\n",
    "#### Why it is inefficient\n",
    "\n",
    "- **Full Table Scan**: Without an index on `customer_id`, the database may need to scan the entire `orders` table to find matching rows.\n",
    "- **Performance**: The query may be slow, especially for large tables.\n",
    "\n",
    "#### Better Practice\n",
    "\n",
    "```sql\n",
    "CREATE INDEX idx_customer_id ON orders(customer_id);\n",
    "\n",
    "SELECT order_id, order_date\n",
    "FROM orders\n",
    "WHERE customer_id = 1;\n",
    "```\n",
    "\n",
    "#### Benefits\n",
    "\n",
    "- **Efficiency**: The index speeds up the query by allowing the database to quickly locate rows with the specified `customer_id`.\n",
    "- **Performance**: The query executes faster, especially for large tables.\n",
    "- **Scalability**: Indexes improve query performance as the data volume grows.\n",
    "- **Resource Utilisation**: Indexes reduce the computational resources needed to process the query.\n",
    "- **Cost Management**: Faster queries reduce the need for additional resources, helping to manage costs."
   ]
  },
  {
   "cell_type": "markdown",
   "metadata": {},
   "source": [
    "### Quick Activity 3\n",
    "\n",
    "Nothing here as we've already done this!"
   ]
  },
  {
   "cell_type": "markdown",
   "metadata": {},
   "source": [
    "---"
   ]
  },
  {
   "cell_type": "markdown",
   "metadata": {},
   "source": [
    "## 4. Suboptimal `WHERE` Clauses"
   ]
  },
  {
   "cell_type": "markdown",
   "metadata": {},
   "source": [
    "- **Problem**: Inefficient `WHERE` clauses can prevent the query optimizer from using indexes effectively.\n",
    "- **Solution**: Simplify `WHERE` clauses, avoid non-sargable expressions, and use indexed columns for filtering.\n",
    "\n",
    "#### Bad Practice\n",
    "\n",
    "```sql\n",
    "SELECT order_id, order_date\n",
    "FROM orders\n",
    "WHERE YEAR(order_date) = 2022;\n",
    "```\n",
    "\n",
    "#### Why it is inefficient\n",
    "\n",
    "- **Non-Sargable**: The `YEAR()` function makes the `order_date` column non-sargable, preventing the use of indexes.\n",
    "- **Performance**: The query may be slow, especially for large tables.\n",
    "- **Resource Usage**: The database may need to perform a full table scan to evaluate the function for each row.\n",
    "- **Index Usage**: Even if an index exists on `order_date`, it may not be used effectively due to the function.\n",
    "- **Scalability**: Inefficient queries can become bottlenecks as data volumes grow.\n",
    "\n",
    "#### Better Practice\n",
    "\n",
    "```sql\n",
    "SELECT order_id, order_date\n",
    "FROM orders\n",
    "WHERE order_date >= '2022-01-01' AND order_date < '2023-01-01';\n",
    "```\n",
    "\n",
    "#### Benefits\n",
    "\n",
    "- **Sargable**: The query is sargable, allowing the database to use indexes efficiently.\n",
    "- **Performance**: The query executes faster, especially for large tables.\n",
    "- **Resource Utilisation**: The database can process the query more efficiently.\n",
    "- **Scalability**: Optimized queries can handle larger data volumes without significant performance degradation."
   ]
  },
  {
   "cell_type": "markdown",
   "metadata": {},
   "source": [
    "### Quick Activity 4\n",
    "\n",
    "Rewrite the following query to make it more efficient:\n",
    "\n",
    "```sql\n",
    "SELECT o.order_id, o.order_date, c.customer_id, c.name, c.email\n",
    "FROM orders o\n",
    "JOIN customers c ON o.customer_id = c.customer_id\n",
    "WHERE LOWER(c.email) = 'example@example.com' AND DATE(o.order_date) = '2022-01-01';\n",
    "```"
   ]
  },
  {
   "cell_type": "code",
   "execution_count": null,
   "metadata": {
    "vscode": {
     "languageId": "sql"
    }
   },
   "outputs": [],
   "source": [
    "--- Write SQL in this cell\n",
    "SELECT o.order_id, o.order_date, c.customer_id, c.name, c.email\n",
    "FROM orders o\n",
    "JOIN customers c ON o.customer_id = c.customer_id\n",
    "WHERE c.email = 'example@example.com' AND o.order_date = '2022-01-01';"
   ]
  },
  {
   "cell_type": "markdown",
   "metadata": {},
   "source": [
    "---"
   ]
  },
  {
   "cell_type": "markdown",
   "metadata": {},
   "source": [
    "## 5. Unnecessary Sorting"
   ]
  },
  {
   "cell_type": "markdown",
   "metadata": {},
   "source": [
    "- **Problem**: Sorting large result sets can be computationally expensive, especially if the sorting operation is not necessary.\n",
    "- **Solution**: Avoid unnecessary sorting by removing `ORDER BY` clauses that are not required.\n",
    "- **Note**: If sorting is necessary, ensure that the columns being sorted are indexed.\n",
    "\n",
    "#### Bad Practice\n",
    "\n",
    "```sql\n",
    "SELECT order_id, order_date\n",
    "FROM orders\n",
    "WHERE customer_id = 1\n",
    "ORDER BY order_date;\n",
    "```\n",
    "\n",
    "#### Why it is inefficient\n",
    "\n",
    "- **Unnecessary Sorting**: The `ORDER BY` clause is not needed for the query results.\n",
    "- **Performance**: Sorting large result sets can be computationally expensive.\n",
    "- **Resource Usage**: Sorting operations can consume additional resources.\n",
    "- **Index Usage**: Sorting on non-indexed columns can slow down the query.\n",
    "- **Scalability**: Unnecessary sorting can become a bottleneck as data volumes grow.\n",
    "\n",
    "#### Better Practice\n",
    "\n",
    "```sql\n",
    "SELECT order_id, order_date\n",
    "FROM orders\n",
    "WHERE customer_id = 1;\n",
    "```\n",
    "\n",
    "#### Benefits\n",
    "\n",
    "- **Efficiency**: Removing the `ORDER BY` clause avoids unnecessary sorting.\n",
    "- **Performance**: The query executes faster without the sorting overhead.\n",
    "- **Resource Utilisation**: The database can process the query more efficiently.\n",
    "- **Scalability**: Optimized queries can handle larger data volumes without significant performance degradation."
   ]
  },
  {
   "cell_type": "markdown",
   "metadata": {},
   "source": [
    "### Quick Activity 5\n",
    "\n",
    "Another trivial one:\n",
    "\n",
    "Rewrite the following query to remove unnecessary sorting:\n",
    "\n",
    "```sql\n",
    "SELECT o.order_id, o.order_date, c.customer_id, c.name, SUM(oi.quantity * p.price) AS total_amount\n",
    "FROM orders o\n",
    "JOIN customers c ON o.customer_id = c.customer_id\n",
    "JOIN order_items oi ON o.order_id = oi.order_id\n",
    "JOIN products p ON oi.product_id = p.product_id\n",
    "WHERE c.city = 'New York' AND p.category = 'Electronics'\n",
    "GROUP BY o.order_id, o.order_date, c.customer_id, c.name\n",
    "ORDER BY c.name, o.order_date;\n",
    "```"
   ]
  },
  {
   "cell_type": "code",
   "execution_count": null,
   "metadata": {
    "vscode": {
     "languageId": "sql"
    }
   },
   "outputs": [],
   "source": [
    "--- Write SQL in this cell\n",
    "SELECT o.order_id, o.order_date, c.customer_id, c.name, SUM(oi.quantity * p.price) AS total_amount\n",
    "FROM orders o\n",
    "JOIN customers c ON o.customer_id = c.customer_id\n",
    "JOIN order_items oi ON o.order_id = oi.order_id\n",
    "JOIN products p ON oi.product_id = p.product_id\n",
    "WHERE c.city = 'New York' AND p.category = 'Electronics'\n",
    "GROUP BY o.order_id, o.order_date, c.customer_id, c.name\n",
    "ORDER BY c.name;"
   ]
  },
  {
   "cell_type": "markdown",
   "metadata": {},
   "source": [
    "---"
   ]
  },
  {
   "cell_type": "markdown",
   "metadata": {},
   "source": [
    "## 6. Redundant Subqueries"
   ]
  },
  {
   "cell_type": "markdown",
   "metadata": {},
   "source": [
    "- **Problem**: Redundant subqueries or nested queries can lead to unnecessary data processing and performance overhead.\n",
    "- **Solution**: Simplify queries by removing redundant subqueries and optimizing the query structure.\n",
    "\n",
    "#### Bad Practice\n",
    "\n",
    "```sql\n",
    "SELECT order_id, order_date\n",
    "FROM orders\n",
    "WHERE customer_id IN (\n",
    "    SELECT customer_id\n",
    "    FROM customers\n",
    "    WHERE city = 'New York'\n",
    ");\n",
    "```\n",
    "\n",
    "#### Why it is inefficient\n",
    "\n",
    "- **Redundant Subquery**: The subquery is unnecessary and can be replaced with a join.\n",
    "- **Performance**: Subqueries can be less efficient than joins.\n",
    "- **Resource Usage**: Subqueries can consume additional resources.\n",
    "- **Readability**: Subqueries can make the query harder to understand.\n",
    "- **Scalability**: Redundant subqueries can become bottlenecks as data volumes grow.\n",
    "- **Adaptability**: Simplifying queries makes them more adaptable to changes in data volume or schema.\n",
    "- **Maintainability**: Removing redundant subqueries improves query maintainability.\n",
    "\n",
    "#### Better Practice\n",
    "\n",
    "```sql\n",
    "SELECT o.order_id, o.order_date\n",
    "FROM orders o\n",
    "JOIN customers c ON o.customer_id = c.customer_id\n",
    "WHERE c.city = 'New York';\n",
    "```\n",
    "\n",
    "#### Benefits\n",
    "\n",
    "- **Efficiency**: Replacing the subquery with a join can improve query performance.\n",
    "- **Performance**: The query executes faster with a more efficient structure.\n",
    "- **Resource Utilisation**: The database can process the query more efficiently.\n",
    "- **Readability**: The query is easier to understand and maintain.\n",
    "- **Scalability**: Optimized queries can handle larger data volumes without significant performance degradation.\n",
    "- **Adaptability**: Simplified queries are more adaptable to changes in data volume or schema.\n",
    "- **Maintainability**: Removing redundant subqueries improves query maintainability.\n",
    "- **Consistent Performance**: Optimised queries provide consistent performance under varying loads."
   ]
  },
  {
   "cell_type": "markdown",
   "metadata": {},
   "source": [
    "### Quick Activity 6\n",
    "\n",
    "Rewrite the following query to remove the redundant subquery:\n",
    "\n",
    "```sql\n",
    "SELECT c.customer_id, c.name, (\n",
    "    SELECT SUM(oi.quantity * p.price)\n",
    "    FROM orders o\n",
    "    JOIN order_items oi ON o.order_id = oi.order_id\n",
    "    JOIN products p ON oi.product_id = p.product_id\n",
    "    WHERE o.customer_id = c.customer_id\n",
    ") AS total_amount\n",
    "FROM customers c\n",
    "WHERE c.city = 'New York';\n",
    "```"
   ]
  },
  {
   "cell_type": "code",
   "execution_count": null,
   "metadata": {
    "vscode": {
     "languageId": "sql"
    }
   },
   "outputs": [],
   "source": [
    "--- Write SQL in this cell\n",
    "CREATE INDEX idx_customers_city ON customers(city);\n",
    "CREATE INDEX idx_orders_customer_id ON orders(customer_id);\n",
    "CREATE INDEX idx_order_items_order_id ON order_items(order_id);\n",
    "CREATE INDEX idx_order_items_product_id ON order_items(product_id);\n",
    "CREATE INDEX idx_products_product_id ON products(product_id);\n",
    "\n",
    "SELECT c.customer_id, c.name, COALESCE(SUM(oi.quantity * p.price), 0) AS total_amount\n",
    "FROM customers c\n",
    "JOIN orders o ON c.customer_id = o.customer_id\n",
    "JOIN order_items oi ON o.order_id = oi.order_id\n",
    "JOIN products p ON oi.product_id = p.product_id\n",
    "WHERE c.city = 'New York'\n",
    "GROUP BY c.customer_id, c.name;"
   ]
  },
  {
   "cell_type": "markdown",
   "metadata": {},
   "source": [
    "---"
   ]
  },
  {
   "cell_type": "markdown",
   "metadata": {},
   "source": [
    "## 7. Overuse of `DISTINCT`"
   ]
  },
  {
   "cell_type": "markdown",
   "metadata": {},
   "source": [
    "- **Problem**: Using `DISTINCT` to remove duplicates from query results can be resource-intensive, especially for large datasets.\n",
    "- **Solution**: Use `DISTINCT` judiciously and consider alternative approaches, such as grouping or filtering, to achieve the desired results without unnecessary overhead.\n",
    "\n",
    "#### Bad Practice\n",
    "\n",
    "```sql\n",
    "SELECT DISTINCT customer_id\n",
    "FROM orders;\n",
    "```\n",
    "\n",
    "#### Why it is inefficient\n",
    "\n",
    "- **Resource Usage**: `DISTINCT` can be computationally expensive, especially for large datasets.\n",
    "- **Performance**: Removing duplicates using `DISTINCT` can slow down query execution.\n",
    "\n",
    "#### Better Practice\n",
    "\n",
    "```sql\n",
    "SELECT customer_id\n",
    "FROM orders\n",
    "GROUP BY customer_id;\n",
    "```\n",
    "\n",
    "#### Benefits\n",
    "\n",
    "- **Efficiency**: Using `GROUP BY` can achieve the same result as `DISTINCT` with potentially better performance.\n",
    "- **Performance**: The query executes faster without the overhead of `DISTINCT`.\n",
    "- **Resource Utilisation**: The database can process the query more efficiently.\n",
    "- **Scalability**: Optimized queries can handle larger datasets without significant performance degradation.\n",
    "- **Data Quality**: Using `GROUP BY` can provide additional aggregation capabilities if needed.\n",
    "- **User Experience**: Faster queries improve the user experience for data consumers."
   ]
  },
  {
   "cell_type": "markdown",
   "metadata": {},
   "source": [
    "### Quick Activity 7\n",
    "\n",
    "Rewrite the following query to remove the unnecessary use of `DISTINCT`:\n",
    "\n",
    "```sql\n",
    "SELECT DISTINCT c.customer_id, c.name, c.email, COUNT(oi.order_id) AS order_count\n",
    "FROM customers c\n",
    "JOIN orders o ON c.customer_id = o.customer_id\n",
    "JOIN order_items oi ON o.order_id = oi.order_id\n",
    "WHERE c.city = 'New York'\n",
    "GROUP BY c.customer_id, c.name, c.email;\n",
    "```"
   ]
  },
  {
   "cell_type": "code",
   "execution_count": null,
   "metadata": {
    "vscode": {
     "languageId": "sql"
    }
   },
   "outputs": [],
   "source": [
    "--- Write SQL in this cell\n",
    "SELECT c.customer_id, c.name, c.email, COUNT(o.order_id) AS order_count\n",
    "FROM customers c\n",
    "JOIN orders o ON c.customer_id = o.customer_id\n",
    "JOIN order_items oi ON o.order_id = oi.order_id\n",
    "WHERE c.city = 'New York'\n",
    "GROUP BY c.customer_id, c.name, c.email;\n"
   ]
  },
  {
   "cell_type": "markdown",
   "metadata": {},
   "source": [
    "---"
   ]
  },
  {
   "cell_type": "markdown",
   "metadata": {},
   "source": [
    "## 8. Lack of Query Plan Analysis"
   ]
  },
  {
   "cell_type": "markdown",
   "metadata": {},
   "source": [
    "- **Problem**: Not analysing query execution plans or performance metrics can lead to missed optimization opportunities and inefficient query performance.\n",
    "- **Solution**: Monitor query execution plans, performance metrics, and resource usage to identify bottlenecks and optimize queries for better performance.\n",
    "\n",
    "#### Bad Practice\n",
    "\n",
    "```sql\n",
    "SELECT order_id, order_date\n",
    "FROM orders\n",
    "WHERE customer_id = 1;\n",
    "```\n",
    "\n",
    "#### Why it is inefficient\n",
    "\n",
    "- **Lack of Analysis**: Without analysing the query execution plan, it is difficult to identify potential performance issues.\n",
    "- **Optimisation Opportunities**: Query plans can reveal opportunities for index usage, join strategies, or other optimizations.\n",
    "- **Performance Tuning**: Monitoring performance metrics can help identify bottlenecks and areas for improvement.\n",
    "\n",
    "#### Better Practice\n",
    "\n",
    "```sql\n",
    "EXPLAIN SELECT order_id, order_date\n",
    "FROM orders\n",
    "WHERE customer_id = 1;\n",
    "\n",
    "ANALYZE SELECT order_id, order_date\n",
    "FROM orders\n",
    "WHERE customer_id = 1;\n",
    "```\n",
    "\n",
    "These 2 queries allow developers to see the query plan and analyse the performance of the query.\n",
    "\n",
    "#### Benefits\n",
    "\n",
    "- **Analysis**: Query plans provide insights into how the database processes the query.\n",
    "- **Optimisation**: Identifying inefficient operations or missing indexes can lead to query optimisations.\n",
    "- **Performance Tuning**: Monitoring performance metrics helps improve query performance.\n",
    "- **Resource Utilisation**: Query plans can reveal resource-intensive operations that can be optimised.\n",
    "- **Scalability**: Optimised queries can handle larger datasets without significant performance degradation.\n",
    "- **Data Quality**: Optimised queries improve data processing accuracy and reliability."
   ]
  },
  {
   "cell_type": "markdown",
   "metadata": {},
   "source": [
    "### Quick Activity 8\n",
    "\n",
    "Nothing here as it's more of a practice than an activity.  See the Notebook on Indexing for more information."
   ]
  },
  {
   "cell_type": "markdown",
   "metadata": {},
   "source": [
    "---"
   ]
  },
  {
   "cell_type": "markdown",
   "metadata": {},
   "source": [
    "## 9. Poorly Structured Queries"
   ]
  },
  {
   "cell_type": "markdown",
   "metadata": {},
   "source": [
    "- **Problem**: Poorly structured queries with complex logic, redundant operations, or inefficient data access patterns can lead to slow query performance.\n",
    "- **Solution**: Refactor queries to improve readability, simplify logic, and optimise data access patterns for better performance.\n",
    "\n",
    "#### Bad Practice\n",
    "\n",
    "```sql\n",
    "SELECT o.order_id, o.order_date, c.customer_id, c.name, SUM(oi.quantity * p.price) AS total_amount\n",
    "FROM orders o\n",
    "JOIN customers c ON o.customer_id = c.customer_id\n",
    "JOIN order_items oi ON o.order_id = oi.order_id\n",
    "JOIN products p ON oi.product_id = p.product_id\n",
    "WHERE c.city = 'New York' AND p.category = 'Electronics'\n",
    "GROUP BY o.order_id, o.order_date, c.customer_id, c.name;\n",
    "```\n",
    "\n",
    "#### Why it is inefficient\n",
    "\n",
    "- **Complex Logic**: The query has complex logic with multiple joins, aggregations, and filtering conditions.\n",
    "- **Readability**: The query is hard to read and understand due to its complexity.\n",
    "- **Performance**: Complex queries can be less efficient and harder to optimise.\n",
    "- **Resource Usage**: Redundant operations or inefficient data access patterns can consume additional resources.\n",
    "- **Scalability**: Poorly structured queries can become bottlenecks as data volumes grow.\n",
    "\n",
    "#### Better Practice\n",
    "\n",
    "```sql\n",
    "WITH filtered_customers AS (\n",
    "    SELECT customer_id, name\n",
    "    FROM customers\n",
    "    WHERE city = 'New York'\n",
    "), filtered_products AS (\n",
    "    SELECT product_id, price\n",
    "    FROM products\n",
    "    WHERE category = 'Electronics'\n",
    ")\n",
    "SELECT o.order_id, o.order_date, fc.customer_id, fc.name, SUM(oi.quantity * fp.price) AS total_amount\n",
    "FROM orders o\n",
    "JOIN filtered_customers fc ON o.customer_id = fc.customer_id\n",
    "JOIN order_items oi ON o.order_id = oi.order_id\n",
    "JOIN filtered_products fp ON oi.product_id = fp.product_id\n",
    "GROUP BY o.order_id, o.order_date, fc.customer_id, fc.name;\n",
    "```\n",
    "\n",
    "#### Benefits\n",
    "\n",
    "- **Simplification**: Refactoring the query into CTEs simplifies the logic and improves readability.\n",
    "- **Performance**: The query structure is optimised for better performance.\n",
    "- **Resource Utilisation**: The database can process the query more efficiently.\n",
    "- **Scalability**: Optimised queries can handle larger datasets without significant performance degradation.\n",
    "- **Adaptability**: Simplified queries are more adaptable to changes in data volume or schema.\n",
    "- **Maintainability**: Refactoring queries improves query maintainability and readability."
   ]
  },
  {
   "cell_type": "markdown",
   "metadata": {},
   "source": [
    "### Quick Activity 9\n",
    "\n",
    "Rewrite the following query to improve its structure and readability:\n",
    "\n",
    "```sql\n",
    "SELECT c.customer_id, c.name, c.email, \n",
    "       (SELECT COUNT(*) \n",
    "        FROM orders o \n",
    "        WHERE o.customer_id = c.customer_id \n",
    "          AND o.order_date BETWEEN '2022-01-01' AND '2022-12-31') AS order_count,\n",
    "       (SELECT SUM(oi.quantity * p.price) \n",
    "        FROM orders o \n",
    "        JOIN order_items oi ON o.order_id = oi.order_id \n",
    "        JOIN products p ON oi.product_id = p.product_id \n",
    "        WHERE o.customer_id = c.customer_id \n",
    "          AND o.order_date BETWEEN '2022-01-01' AND '2022-12-31') AS total_spent\n",
    "FROM customers c\n",
    "WHERE c.city = 'New York'\n",
    "ORDER BY total_spent DESC;\n",
    "```"
   ]
  },
  {
   "cell_type": "code",
   "execution_count": null,
   "metadata": {
    "vscode": {
     "languageId": "sql"
    }
   },
   "outputs": [],
   "source": [
    "--- Write SQL in this cell\n"
   ]
  },
  {
   "cell_type": "markdown",
   "metadata": {},
   "source": [
    "---"
   ]
  },
  {
   "cell_type": "markdown",
   "metadata": {},
   "source": [
    "## 10. Lack of Data Normalisation"
   ]
  },
  {
   "cell_type": "markdown",
   "metadata": {},
   "source": [
    "- **Problem**: Denormalised data structures can lead to redundant data storage, update anomalies, and inefficient query performance.\n",
    "- **Solution**: Normalise data structures to reduce redundancy, improve data integrity, and optimize query performance through efficient data access patterns.\n",
    "\n",
    "#### Bad Practice\n",
    "\n",
    "```sql\n",
    "CREATE TABLE orders (\n",
    "    order_id INT PRIMARY KEY,\n",
    "    customer_id INT,\n",
    "    customer_name VARCHAR(100),\n",
    "    order_date DATE,\n",
    "    total_amount DECIMAL(10, 2)\n",
    ");\n",
    "```\n",
    "\n",
    "#### Why it is inefficient\n",
    "\n",
    "- **Redundant Data**: Storing customer_name in the orders table can lead to data redundancy.\n",
    "- **Update Anomalies**: If the customer name changes, all orders for that customer need to be updated.\n",
    "- **Data Integrity**: Redundant data can lead to inconsistencies and data integrity issues.\n",
    "- **Performance**: Denormalised structures can lead to inefficient queries and slower performance.\n",
    "- **Scalability**: Redundant data storage can impact scalability and resource usage.\n",
    "- **Maintainability**: Denormalised structures are harder to maintain and update.\n",
    "\n",
    "#### Better Practice\n",
    "\n",
    "```sql\n",
    "CREATE TABLE orders (\n",
    "    order_id INT PRIMARY KEY,\n",
    "    customer_id INT,\n",
    "    order_date DATE,\n",
    "    total_amount DECIMAL(10, 2)\n",
    ");\n",
    "\n",
    "CREATE TABLE customers (\n",
    "    customer_id INT PRIMARY KEY,\n",
    "    name VARCHAR(100)\n",
    ");\n",
    "```\n",
    "\n",
    "#### Benefits\n",
    "\n",
    "- **Data Integrity**: Normalised structures improve data integrity and consistency.\n",
    "- **Efficiency**: Normalised tables reduce redundancy and improve query performance.\n",
    "- **Resource Utilisation**: Efficient data access patterns reduce resource consumption.\n",
    "- **Scalability**: Normalised structures are more scalable and adaptable to changing data volumes.\n",
    "- **Maintainability**: Normalised tables are easier to maintain and update."
   ]
  },
  {
   "cell_type": "markdown",
   "metadata": {},
   "source": [
    "### Quick Activity 10\n",
    "\n",
    "Rewrite the following table structure to normalise the data:\n",
    "\n",
    "```sql\n",
    "CREATE TABLE orders (\n",
    "    order_id INT PRIMARY KEY,\n",
    "    order_date DATE,\n",
    "    customer_id INT,\n",
    "    customer_name VARCHAR(255),\n",
    "    customer_email VARCHAR(255),\n",
    "    product_id INT,\n",
    "    product_name VARCHAR(255),\n",
    "    product_category VARCHAR(255),\n",
    "    quantity INT,\n",
    "    price DECIMAL(10, 2),\n",
    "    total_amount DECIMAL(10, 2)\n",
    ");\n",
    "```"
   ]
  },
  {
   "cell_type": "code",
   "execution_count": null,
   "metadata": {
    "vscode": {
     "languageId": "sql"
    }
   },
   "outputs": [],
   "source": [
    "--- Write SQL in this cell\n"
   ]
  },
  {
   "cell_type": "markdown",
   "metadata": {},
   "source": [
    "---\n",
    "\n",
    "---"
   ]
  },
  {
   "cell_type": "markdown",
   "metadata": {},
   "source": [
    "## Learner Stories\n",
    "\n",
    "```txt\n",
    "As a DATA PROFESSIONAL,  \n",
    "I want to be able to avoid common performance pitfalls like SELECT * and inefficient joins,  \n",
    "so that I can write performant and scalable SQL queries\n",
    "```"
   ]
  },
  {
   "cell_type": "markdown",
   "metadata": {},
   "source": [
    "## Summary\n",
    "\n",
    "In this notebook, we have explored common performance pitfalls in SQL queries and provided solutions to avoid them. By addressing these pitfalls, data professionals can write more efficient, scalable, and maintainable SQL queries that meet the demands of modern data processing and analysis.\n",
    "\n",
    "The usual reasons and benefits of optimising queries are:\n",
    "\n",
    "1. **Efficiency and Speed**: Optimised queries execute faster, reducing latency and resource consumption.\n",
    "2. **Scalability**: Optimised queries can handle larger datasets and growing data volumes without significant performance degradation.\n",
    "3. **Reliability and Stability**: Efficient queries are less prone to timeouts, crashes, or failures, ensuring consistent performance.\n",
    "4. **Data Quality and Accuracy**: Timely data processing and reduced errors lead to higher data quality.\n",
    "5. **User Experience**: Faster queries provide faster insights and improved interactivity for end-users.\n",
    "6. **Maintainability and Future-Proofing**: Optimised queries are easier to troubleshoot, maintain, and adapt to changes in data volume or schema.\n",
    "7. **Cost Management**: Efficient queries reduce resource consumption, helping to manage operational costs.\n",
    "8. **Consistent Performance**: Optimised queries provide consistent performance under varying loads.\n",
    "9. **Adaptability**: Optimised queries are more adaptable to changes in data volume, schema, or infrastructure.\n"
   ]
  },
  {
   "cell_type": "markdown",
   "metadata": {},
   "source": [
    "---\n",
    "\n",
    "---"
   ]
  },
  {
   "cell_type": "markdown",
   "metadata": {},
   "source": [
    "## Solutions"
   ]
  },
  {
   "cell_type": "markdown",
   "metadata": {},
   "source": [
    "### Quick Activity 1"
   ]
  },
  {
   "cell_type": "code",
   "execution_count": null,
   "metadata": {
    "vscode": {
     "languageId": "sql"
    }
   },
   "outputs": [],
   "source": [
    "SELECT order_id, customer_id, order_date, order_status\n",
    "FROM orders\n",
    "WHERE order_date BETWEEN '2013-07-01' AND '2013-07-31'"
   ]
  },
  {
   "cell_type": "markdown",
   "metadata": {},
   "source": [
    "### Quick Activity 2"
   ]
  },
  {
   "cell_type": "code",
   "execution_count": null,
   "metadata": {
    "vscode": {
     "languageId": "sql"
    }
   },
   "outputs": [],
   "source": [
    "WITH filtered_customers AS (\n",
    "    SELECT customer_id, name\n",
    "    FROM customers\n",
    "    WHERE city = 'New York'\n",
    "),\n",
    "filtered_products AS (\n",
    "    SELECT product_id, price\n",
    "    FROM products\n",
    "    WHERE category = 'Electronics'\n",
    ")\n",
    "SELECT o.order_id, o.order_date, fc.customer_id, fc.name, SUM(oi.quantity * fp.price) AS total_amount\n",
    "FROM orders o\n",
    "JOIN filtered_customers fc ON o.customer_id = fc.customer_id\n",
    "JOIN order_items oi ON o.order_id = oi.order_id\n",
    "JOIN filtered_products fp ON oi.product_id = fp.product_id\n",
    "GROUP BY o.order_id, o.order_date, fc.customer_id, fc.name;"
   ]
  },
  {
   "cell_type": "markdown",
   "metadata": {},
   "source": [
    "#### Explanation\n",
    "\n",
    "***Original Query:***\n",
    "\n",
    "The original query joins multiple tables and filters on columns from the `customers` and `products` tables. However, the filtering is done after the joins, which can lead to inefficient joins and poor performance.  \n",
    "\n",
    "***Optimised Query:***\n",
    "\n",
    "- ***Filtered Customers CTE***: Filters the `customers` table to include only those in `'New York'` before joining.  \n",
    "- ***Filtered Products CTE***: Filters the `products` table to include only those in the `'Electronics'` category before joining.  \n",
    "- ***Final Query***: Joins the `orders` table with the filtered CTEs and the `order_items` table, then groups and calculates the `total amount`."
   ]
  },
  {
   "cell_type": "markdown",
   "metadata": {},
   "source": [
    "### Quick Activity 3"
   ]
  },
  {
   "cell_type": "markdown",
   "metadata": {},
   "source": [
    "N/A"
   ]
  },
  {
   "cell_type": "markdown",
   "metadata": {},
   "source": [
    "### Quick Activity 4"
   ]
  },
  {
   "cell_type": "code",
   "execution_count": null,
   "metadata": {
    "vscode": {
     "languageId": "sql"
    }
   },
   "outputs": [],
   "source": [
    "SELECT o.order_id, o.order_date, c.customer_id, c.name, c.email\n",
    "FROM orders o\n",
    "JOIN customers c ON o.customer_id = c.customer_id\n",
    "WHERE c.email = 'example@example.com' AND o.order_date >= '2022-01-01' AND o.order_date < '2022-01-02';"
   ]
  },
  {
   "cell_type": "markdown",
   "metadata": {},
   "source": [
    "#### Explanation\n",
    "\n",
    "***Original Query***:\n",
    "\n",
    "The `WHERE` clause in this query uses the `LOWER()` function on the `email` column and the `DATE()` function on the `order_date` column. Both of these make the query non-sargable, preventing the use of indexes on these columns and leading to poor performance.\n",
    "\n",
    "***Optimised Query***:\n",
    "\n",
    "- ***Email Comparison***: Ensure that the `email` column is stored in a consistent case (e.g., all lowercase) to avoid the need for the `LOWER()` function. This allows the query to use an **index** on the `email` column.  \n",
    "- ***Date Comparison***: Use a range condition on the `order_date` column to avoid the `DATE()` function, allowing the query to use an **index** on the `order_date` column.  "
   ]
  },
  {
   "cell_type": "markdown",
   "metadata": {},
   "source": [
    "### Quick Activity 5"
   ]
  },
  {
   "cell_type": "code",
   "execution_count": null,
   "metadata": {
    "vscode": {
     "languageId": "sql"
    }
   },
   "outputs": [],
   "source": [
    "SELECT o.order_id, o.order_date, c.customer_id, c.name, SUM(oi.quantity * p.price) AS total_amount\n",
    "FROM orders o\n",
    "JOIN customers c ON o.customer_id = c.customer_id\n",
    "JOIN order_items oi ON o.order_id = oi.order_id\n",
    "JOIN products p ON oi.product_id = p.product_id\n",
    "WHERE c.city = 'New York' AND p.category = 'Electronics'\n",
    "GROUP BY o.order_id, o.order_date, c.customer_id, c.name;"
   ]
  },
  {
   "cell_type": "markdown",
   "metadata": {},
   "source": [
    "#### Explanation\n",
    "\n",
    "***Original Query***:\n",
    "\n",
    "The query includes an `ORDER BY` clause that sorts the results by `c.name` and `o.order`_date. However, if the sorting is not required for the final result, it adds unnecessary computational overhead.  \n",
    "\n",
    "***Optimised Query***:\n",
    "\n",
    "- ***Removed Unnecessary Sorting***: The `ORDER BY` clause has been removed to eliminate unnecessary sorting, reducing computational overhead and improving query performance."
   ]
  },
  {
   "cell_type": "markdown",
   "metadata": {},
   "source": [
    "### Quick Activity 6"
   ]
  },
  {
   "cell_type": "code",
   "execution_count": null,
   "metadata": {
    "vscode": {
     "languageId": "sql"
    }
   },
   "outputs": [],
   "source": [
    "WITH customer_totals AS (\n",
    "    SELECT o.customer_id, SUM(oi.quantity * p.price) AS total_amount\n",
    "    FROM orders o\n",
    "    JOIN order_items oi ON o.order_id = oi.order_id\n",
    "    JOIN products p ON oi.product_id = p.product_id\n",
    "    GROUP BY o.customer_id\n",
    ")\n",
    "SELECT c.customer_id, c.name, ct.total_amount\n",
    "FROM customers c\n",
    "JOIN customer_totals ct ON c.customer_id = ct.customer_id\n",
    "WHERE c.city = 'New York';"
   ]
  },
  {
   "cell_type": "markdown",
   "metadata": {},
   "source": [
    "#### Explanation\n",
    "\n",
    "***Original Query***:\n",
    "\n",
    "The query includes a subquery in the `SELECT` clause to calculate the *total amount* for each *customer*. This subquery is executed for each row in the `customers` table, leading to redundant calculations and poor performance.  \n",
    "\n",
    "***Optimised Query***:\n",
    "\n",
    "- ***Customer Totals CTE***: Calculates the *total amount* for each *customer* in a CTE, grouping by `customer_id`.\n",
    "- ***Final Query***: Joins the `customers` table with the `customer_totals` CTE to get the *total amount* for each *customer* in `'New York'`."
   ]
  },
  {
   "cell_type": "markdown",
   "metadata": {},
   "source": [
    "### Quick Activity 7"
   ]
  },
  {
   "cell_type": "code",
   "execution_count": null,
   "metadata": {
    "vscode": {
     "languageId": "sql"
    }
   },
   "outputs": [],
   "source": [
    "SELECT c.customer_id, c.name, c.email, COUNT(oi.order_id) AS order_count\n",
    "FROM customers c\n",
    "JOIN orders o ON c.customer_id = o.customer_id\n",
    "JOIN order_items oi ON o.order_id = oi.order_id\n",
    "WHERE c.city = 'New York'\n",
    "GROUP BY c.customer_id, c.name, c.email;"
   ]
  },
  {
   "cell_type": "markdown",
   "metadata": {},
   "source": [
    "#### Explanation\n",
    "\n",
    "***Original Query***:\n",
    "\n",
    "The query uses `DISTINCT` in combination with `GROUP BY`, which is redundant because `GROUP BY` already ensures that the results are unique based on the grouped columns. This can lead to unnecessary computational overhead.\n",
    "\n",
    "***Optimised Query***:\n",
    "\n",
    "- ***Removed Unnecessary `DISTINCT`***: The `DISTINCT` keyword has been removed because the `GROUP BY` clause already ensures unique results based on the grouped columns."
   ]
  },
  {
   "cell_type": "markdown",
   "metadata": {},
   "source": [
    "### Quick Activity 8"
   ]
  },
  {
   "cell_type": "markdown",
   "metadata": {},
   "source": [
    "N/A"
   ]
  },
  {
   "cell_type": "markdown",
   "metadata": {},
   "source": [
    "### Quick Activity 9"
   ]
  },
  {
   "cell_type": "code",
   "execution_count": null,
   "metadata": {
    "vscode": {
     "languageId": "sql"
    }
   },
   "outputs": [],
   "source": [
    "WITH customer_orders AS (\n",
    "    SELECT o.customer_id, COUNT(*) AS order_count, SUM(oi.quantity * p.price) AS total_spent\n",
    "    FROM orders o\n",
    "    JOIN order_items oi ON o.order_id = oi.order_id\n",
    "    JOIN products p ON oi.product_id = p.product_id\n",
    "    WHERE o.order_date BETWEEN '2022-01-01' AND '2022-12-31'\n",
    "    GROUP BY o.customer_id\n",
    ")\n",
    "SELECT c.customer_id, c.name, c.email, co.order_count, co.total_spent\n",
    "FROM customers c\n",
    "JOIN customer_orders co ON c.customer_id = co.customer_id\n",
    "WHERE c.city = 'New York'\n",
    "ORDER BY co.total_spent DESC;"
   ]
  },
  {
   "cell_type": "markdown",
   "metadata": {},
   "source": [
    "#### Explanation\n",
    "\n",
    "***Original Query***:\n",
    "\n",
    "The query includes multiple subqueries in the `SELECT` clause, which are executed for each row in the customers table. This leads to redundant calculations and poor performance.\n",
    "\n",
    "***Optimised Query***:\n",
    "\n",
    "- ***Customer Orders CTE***: Calculates the order count and total spent for each customer in a CTE, grouping by `customer_id`.  \n",
    "- ***Final Query***: Joins the `customers` table with the `customer_orders` CTE to get the *order count* and *total spent* for each *customer* in `'New York'`.  "
   ]
  },
  {
   "cell_type": "markdown",
   "metadata": {},
   "source": [
    "### Quick Activity 10"
   ]
  },
  {
   "cell_type": "code",
   "execution_count": null,
   "metadata": {
    "vscode": {
     "languageId": "sql"
    }
   },
   "outputs": [],
   "source": [
    "CREATE TABLE customers (\n",
    "    customer_id INT PRIMARY KEY,\n",
    "    name VARCHAR(255),\n",
    "    email VARCHAR(255)\n",
    ");\n",
    "\n",
    "CREATE TABLE products (\n",
    "    product_id INT PRIMARY KEY,\n",
    "    name VARCHAR(255),\n",
    "    category VARCHAR(255),\n",
    "    price DECIMAL(10, 2)\n",
    ");\n",
    "\n",
    "CREATE TABLE orders (\n",
    "    order_id INT PRIMARY KEY,\n",
    "    order_date DATE,\n",
    "    customer_id INT,\n",
    "    FOREIGN KEY (customer_id) REFERENCES customers(customer_id)\n",
    ");\n",
    "\n",
    "CREATE TABLE order_items (\n",
    "    order_item_id INT PRIMARY KEY,\n",
    "    order_id INT,\n",
    "    product_id INT,\n",
    "    quantity INT,\n",
    "    price DECIMAL(10, 2),\n",
    "    FOREIGN KEY (order_id) REFERENCES orders(order_id),\n",
    "    FOREIGN KEY (product_id) REFERENCES products(product_id)\n",
    ");"
   ]
  },
  {
   "cell_type": "markdown",
   "metadata": {},
   "source": [
    "#### Explanation  \n",
    "\n",
    "***Original Query***:\n",
    "\n",
    "- ***Redundant Data***: The `orders` table includes *customer* information (`customer_name`, `customer_email`) and product information (`product_name`, `product_category`) that are repeated for each order.  \n",
    "- ***Violation of 1NF***: The table includes multiple values for *customer* and *product* information in a single table, leading to data redundancy and potential anomalies.  \n",
    "- ***Violation of 2NF***: The table includes non-key attributes (`customer_name`, `customer_email`, `product_name`, `product_category`) that are dependent on part of the **primary key** (`customer_id`, `product_id`), not the whole **primary key**.  \n",
    "\n",
    "***Optimised Query***:\n",
    "\n",
    "- ***Customers Table***: Stores *customer* information with a *unique* `customer_id`.  \n",
    "- ***Products Table***: Stores *product* information with a *unique* `product_id`.  \n",
    "- ***Orders Table***: Stores *order* information with a *reference* to the `customer_id`.  \n",
    "- ***Order Items Table***: Stores *order item* details with *references* to `order_id` and `product_id`, and includes the `quantity` and `price` of each *product* in the *order*."
   ]
  },
  {
   "cell_type": "markdown",
   "metadata": {},
   "source": [
    "---\n",
    "\n",
    "---"
   ]
  }
 ],
 "metadata": {
  "kernelspec": {
   "display_name": ".venv",
   "language": "python",
   "name": "python3"
  },
  "language_info": {
   "name": "python",
   "version": "3.13.0"
  }
 },
 "nbformat": 4,
 "nbformat_minor": 2
}
