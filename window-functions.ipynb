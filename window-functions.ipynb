{
 "cells": [
  {
   "cell_type": "markdown",
   "metadata": {},
   "source": [
    "![Digital Futures](https://github.com/digital-futures-academy/DataScienceMasterResources/blob/main/Resources/datascience-notebook-header.png?raw=true)"
   ]
  },
  {
   "cell_type": "markdown",
   "metadata": {},
   "source": [
    "## Learner Stories\n",
    "\n",
    "```txt\n",
    "As a DATA PROFESSIONAL,  \n",
    "I want to be able to use Window Functions like ROW_NUMBER(), RANK(), and LAG(),  \n",
    "so that I can analyse data across specific windows or partitions\n",
    "```"
   ]
  },
  {
   "cell_type": "markdown",
   "metadata": {},
   "source": [
    "# What are Window Functions?\n",
    "\n",
    "Window functions are a powerful feature of SQL that allow you to perform calculations across a set of table rows that are related to the current row. Window functions are similar to aggregate functions, but they do not group rows into a single output row. Instead, they return a single value for each row based on a window of rows."
   ]
  },
  {
   "cell_type": "markdown",
   "metadata": {},
   "source": [
    "---"
   ]
  },
  {
   "cell_type": "markdown",
   "metadata": {},
   "source": [
    "## Why Use Window Functions?\n",
    "\n",
    "Window Functions are useful for a number of reasons:\n",
    "\n",
    "1. **Comparing Rows**: You can compare the current row with other rows in the table.\n",
    "2. **Ranking Rows**: You can assign a rank to each row based on a specific column.\n",
    "3. **Calculating Running Totals**: You can calculate running totals for a column.\n",
    "4. **Calculating Percentiles**: You can calculate percentiles for a column.\n",
    "5. **Calculating Moving Averages**: You can calculate moving averages for a column.\n",
    "6. **Calculating Differences**: You can calculate differences between rows."
   ]
  },
  {
   "cell_type": "markdown",
   "metadata": {},
   "source": [
    "---"
   ]
  },
  {
   "cell_type": "markdown",
   "metadata": {},
   "source": [
    "## Use Cases for Window Functions\n",
    "\n",
    "Here are some common use cases for window functions:\n",
    "\n",
    "1. **Ranking**: You can rank rows based on a specific column.\n",
    "2. **Partitioning**: You can partition rows into groups based on a specific column.\n",
    "3. **Aggregating**: You can aggregate data within a window.\n",
    "4. **Filtering**: You can filter rows based on a window.\n",
    "\n",
    "Here is an example of a window function that calculates the running total of a column:\n",
    "\n",
    "```sql\n",
    "SELECT\n",
    "    order_id,\n",
    "    order_date,\n",
    "    order_amount,\n",
    "    SUM(order_amount) OVER (ORDER BY order_date) AS running_total\n",
    "FROM\n",
    "    orders;\n",
    "```\n",
    "\n",
    "This query does the following:\n",
    "\n",
    "1. It selects the `order_id`, `order_date`, and `order_amount` columns from the `orders` table.\n",
    "2. It calculates the running total of the `order_amount` column using the `SUM()` function and the `OVER` clause.\n",
    "3. It orders the rows by the `order_date` column.\n",
    "4. It assigns the running total to the `running_total` column.\n",
    "5. It returns the `order_id`, `order_date`, `order_amount`, and `running_total` columns.\n",
    "6. It returns the results in ascending order of `order_date` in a single output row for each row in the `orders` table that is the running total for each row in the `orders` table."
   ]
  },
  {
   "cell_type": "markdown",
   "metadata": {},
   "source": [
    "---"
   ]
  },
  {
   "cell_type": "markdown",
   "metadata": {},
   "source": [
    "## Examples of Window Functions\n",
    "\n",
    "Here are some examples of window functions:\n",
    "\n",
    "1. **`ROW_NUMBER()`**: Assigns a unique number to each row in a result set.\n",
    "2. **`RANK()`**: Assigns a rank to each row in a result set.\n",
    "3. **`LAG()`**: Accesses data from a previous row in a result set.\n",
    "4. **`DENSE_RANK()`**: Assigns a dense rank to each row in a result set.\n",
    "5. **`NTILE()`**: Divides a result set into a specified number of groups.\n",
    "6. **`LEAD()`**: Accesses data from a subsequent row in a result set.\n",
    "7. **`FIRST_VALUE()`**: Returns the first value in a result set."
   ]
  },
  {
   "cell_type": "markdown",
   "metadata": {},
   "source": [
    "---"
   ]
  },
  {
   "cell_type": "markdown",
   "metadata": {},
   "source": [
    "## Demo Database Set Up\n",
    "\n",
    "To see some examples in action, we'll create an in-memory SQLite database and populate it with some sample data."
   ]
  },
  {
   "cell_type": "code",
   "execution_count": 29,
   "metadata": {},
   "outputs": [],
   "source": [
    "import sqlite3"
   ]
  },
  {
   "cell_type": "code",
   "execution_count": 30,
   "metadata": {},
   "outputs": [
    {
     "data": {
      "text/plain": [
       "<sqlite3.Cursor at 0x29ddd4a72c0>"
      ]
     },
     "execution_count": 30,
     "metadata": {},
     "output_type": "execute_result"
    }
   ],
   "source": [
    "# Create an in-memory SQLite database\n",
    "conn = sqlite3.connect(':memory:')\n",
    "cursor = conn.cursor()\n",
    "\n",
    "# Create the employees table\n",
    "cursor.execute('''\n",
    "CREATE TABLE employees (\n",
    "    employee_id INTEGER PRIMARY KEY,\n",
    "    name TEXT,\n",
    "    department_id INTEGER,\n",
    "    salary INTEGER\n",
    ");\n",
    "''')\n",
    "\n",
    "# Populate the employees table with sample data\n",
    "employees = [\n",
    "    (1, 'Alice', 1, 70000),\n",
    "    (2, 'Bob', 1, 80000),\n",
    "    (3, 'Charlie', 1, 70000),\n",
    "    (4, 'David', 2, 90000),\n",
    "    (5, 'Eve', 2, 85000),\n",
    "    (6, 'Frank', 2, 90000)\n",
    "]\n",
    "\n",
    "cursor.executemany('INSERT INTO employees (employee_id, name, department_id, salary) VALUES (?, ?, ?, ?)', employees)"
   ]
  },
  {
   "cell_type": "markdown",
   "metadata": {},
   "source": [
    "---"
   ]
  },
  {
   "cell_type": "markdown",
   "metadata": {},
   "source": [
    "## DEMOS"
   ]
  },
  {
   "cell_type": "markdown",
   "metadata": {},
   "source": [
    "### `ROW_NUMBER()` SQL Demo\n",
    "\n",
    "Assign a unique sequential integer to rows within a partition of a result set, starting at 1 for the first row in each partition."
   ]
  },
  {
   "cell_type": "code",
   "execution_count": 31,
   "metadata": {},
   "outputs": [],
   "source": [
    "row_number_demo_query = '''\n",
    "SELECT \n",
    "    employee_id, \n",
    "    name, \n",
    "    department_id, \n",
    "    salary,\n",
    "    ROW_NUMBER() OVER (PARTITION BY department_id ORDER BY salary DESC) AS row_num\n",
    "FROM \n",
    "    employees;\n",
    "'''"
   ]
  },
  {
   "cell_type": "markdown",
   "metadata": {},
   "source": [
    "#### Explanation of the Query\n",
    "\n",
    "1. ***`SELECT` Clause***:\n",
    "   - `employee_id`, `name`, `department_id`, `salary`: These columns are selected from the employees table.\n",
    "   - `ROW_NUMBER() OVER (PARTITION BY department_id ORDER BY salary DESC) AS row_num`: This is the key part of the query where the `ROW_NUMBER()` function is used.\n",
    "2. ***`ROW_NUMBER()` Function***:\n",
    "   - `ROW_NUMBER()` is a ***window function*** that assigns a unique sequential integer to rows within a partition of a result set.\n",
    "   - `OVER (PARTITION BY department_id ORDER BY salary DESC)`: This clause defines the ***window*** for the `ROW_NUMBER()` function\n",
    "     - `PARTITION BY department_id`: This means that the rows are ***partitioned*** (grouped) by the `department_id` column. Each department will have its own sequence of row numbers.\n",
    "     - `ORDER BY salary DESC`: Within each ***partition*** (department), the rows are ordered by the `salary` column in descending order. The highest `salary` in each department will get the row number `1`, the second highest will get row number `2`, and so on.\n",
    "3. ***Result***:\n",
    "   - The query will return a result set with the original columns (`employee_id`, `name`, `department_id`, `salary`) and an additional column `row_num` that contains the *row number* for each employee within their department, ordered by `salary` in *descending* order."
   ]
  },
  {
   "cell_type": "markdown",
   "metadata": {},
   "source": [
    "#### Run the Query and put the result into a Pandas DataFrame"
   ]
  },
  {
   "cell_type": "code",
   "execution_count": 32,
   "metadata": {},
   "outputs": [],
   "source": [
    "# Import the pandas library\n",
    "import pandas as pd"
   ]
  },
  {
   "cell_type": "code",
   "execution_count": 33,
   "metadata": {},
   "outputs": [
    {
     "data": {
      "text/html": [
       "<div>\n",
       "<style scoped>\n",
       "    .dataframe tbody tr th:only-of-type {\n",
       "        vertical-align: middle;\n",
       "    }\n",
       "\n",
       "    .dataframe tbody tr th {\n",
       "        vertical-align: top;\n",
       "    }\n",
       "\n",
       "    .dataframe thead th {\n",
       "        text-align: right;\n",
       "    }\n",
       "</style>\n",
       "<table border=\"1\" class=\"dataframe\">\n",
       "  <thead>\n",
       "    <tr style=\"text-align: right;\">\n",
       "      <th></th>\n",
       "      <th>employee_id</th>\n",
       "      <th>name</th>\n",
       "      <th>department_id</th>\n",
       "      <th>salary</th>\n",
       "      <th>row_num</th>\n",
       "    </tr>\n",
       "  </thead>\n",
       "  <tbody>\n",
       "    <tr>\n",
       "      <th>0</th>\n",
       "      <td>2</td>\n",
       "      <td>Bob</td>\n",
       "      <td>1</td>\n",
       "      <td>80000</td>\n",
       "      <td>1</td>\n",
       "    </tr>\n",
       "    <tr>\n",
       "      <th>1</th>\n",
       "      <td>1</td>\n",
       "      <td>Alice</td>\n",
       "      <td>1</td>\n",
       "      <td>70000</td>\n",
       "      <td>2</td>\n",
       "    </tr>\n",
       "    <tr>\n",
       "      <th>2</th>\n",
       "      <td>3</td>\n",
       "      <td>Charlie</td>\n",
       "      <td>1</td>\n",
       "      <td>70000</td>\n",
       "      <td>3</td>\n",
       "    </tr>\n",
       "    <tr>\n",
       "      <th>3</th>\n",
       "      <td>4</td>\n",
       "      <td>David</td>\n",
       "      <td>2</td>\n",
       "      <td>90000</td>\n",
       "      <td>1</td>\n",
       "    </tr>\n",
       "    <tr>\n",
       "      <th>4</th>\n",
       "      <td>6</td>\n",
       "      <td>Frank</td>\n",
       "      <td>2</td>\n",
       "      <td>90000</td>\n",
       "      <td>2</td>\n",
       "    </tr>\n",
       "    <tr>\n",
       "      <th>5</th>\n",
       "      <td>5</td>\n",
       "      <td>Eve</td>\n",
       "      <td>2</td>\n",
       "      <td>85000</td>\n",
       "      <td>3</td>\n",
       "    </tr>\n",
       "  </tbody>\n",
       "</table>\n",
       "</div>"
      ],
      "text/plain": [
       "   employee_id     name  department_id  salary  row_num\n",
       "0            2      Bob              1   80000        1\n",
       "1            1    Alice              1   70000        2\n",
       "2            3  Charlie              1   70000        3\n",
       "3            4    David              2   90000        1\n",
       "4            6    Frank              2   90000        2\n",
       "5            5      Eve              2   85000        3"
      ]
     },
     "execution_count": 33,
     "metadata": {},
     "output_type": "execute_result"
    }
   ],
   "source": [
    "# Run the query using the read_sql function\n",
    "df = pd.read_sql(row_number_demo_query, conn)\n",
    "\n",
    "# Print the DataFrame\n",
    "df"
   ]
  },
  {
   "cell_type": "markdown",
   "metadata": {},
   "source": [
    "#### Explanation of the Result\n",
    "\n",
    "- For `department_id = 1`:\n",
    "  - ***Bob*** has the highest salary (80000), so he gets `row_num = 1`.\n",
    "  - ***Alice*** and ***Charlie*** both have the *same* salary (70000). Since ***Alice*** appears first in the original data, they get `row_num = 2`, and ***Charlie*** gets `row_num = 3`.\n",
    "\n",
    "- For `department_id = 2`:\n",
    "  - ***David*** and ***Frank*** both have the highest salary (90000). Since ***David*** appears first in the original data, they get `row_num = 1`, and ***Frank*** gets `row_num = 2`.\n",
    "  - ***Eve*** has the next highest salary (85000), so they get `row_num = 3`.\n",
    "\n",
    "This query helps in assigning a unique sequential number to each row within a partition, which can be useful for ranking, pagination, and other analytical purposes."
   ]
  },
  {
   "cell_type": "markdown",
   "metadata": {},
   "source": [
    "---"
   ]
  },
  {
   "cell_type": "markdown",
   "metadata": {},
   "source": [
    "### `RANK()` SQL Demo\n",
    "\n",
    "Assign a rank to each row within a partition of a result set, with gaps in the ranking."
   ]
  },
  {
   "cell_type": "code",
   "execution_count": 34,
   "metadata": {},
   "outputs": [],
   "source": [
    "rank_demo_query = '''\n",
    "SELECT \n",
    "    employee_id, \n",
    "    name, \n",
    "    department_id, \n",
    "    salary,\n",
    "    RANK() OVER (PARTITION BY department_id ORDER BY salary DESC) AS rank\n",
    "FROM \n",
    "    employees;\n",
    "'''"
   ]
  },
  {
   "cell_type": "markdown",
   "metadata": {},
   "source": [
    "#### Explanation of the Query\n",
    "\n",
    "1. ***`SELECT` Clause***:\n",
    "   - `employee_id`, `name`, `department_id`, `salary`: These columns are selected from the employees table.\n",
    "   - ``RANK()` OVER (PARTITION BY department_id ORDER BY salary DESC) AS rank`: This is the key part of the query where the ``RANK()`` function is used.\n",
    "2. ***`RANK()` Function***:\n",
    "   - `RANK()` is a ***window function*** that assigns a rank to each row within a partition of a result set.\n",
    "   - `OVER (PARTITION BY department_id ORDER BY salary DESC)`: This clause defines the *window* for the `RANK()` function.\n",
    "     - `PARTITION BY department_id`: This means that the rows are *partitioned* (grouped) by the `department_id` column. Each department will have its own sequence of ranks.\n",
    "     - `ORDER BY salary DESC`: Within each *partition* (department), the rows are ordered by the `salary` column in *descending* order. The highest salary in each department will get the rank `1`, the second highest will get rank `2, and so on.\n",
    "   - If there are *ties* (i.e., multiple rows with the same value in the `ORDER BY` clause), they will receive the *same rank*, and the *next rank* will be skipped.\n",
    "3. ***Result:***\n",
    "   - The query will return a result set with the original columns (`employee_id`, `name`, `department_id`, `salary`) and an additional column `rank` that contains the *rank* for each employee within their department, ordered by `salary` in *descending* order."
   ]
  },
  {
   "cell_type": "code",
   "execution_count": 35,
   "metadata": {},
   "outputs": [
    {
     "data": {
      "text/html": [
       "<div>\n",
       "<style scoped>\n",
       "    .dataframe tbody tr th:only-of-type {\n",
       "        vertical-align: middle;\n",
       "    }\n",
       "\n",
       "    .dataframe tbody tr th {\n",
       "        vertical-align: top;\n",
       "    }\n",
       "\n",
       "    .dataframe thead th {\n",
       "        text-align: right;\n",
       "    }\n",
       "</style>\n",
       "<table border=\"1\" class=\"dataframe\">\n",
       "  <thead>\n",
       "    <tr style=\"text-align: right;\">\n",
       "      <th></th>\n",
       "      <th>employee_id</th>\n",
       "      <th>name</th>\n",
       "      <th>department_id</th>\n",
       "      <th>salary</th>\n",
       "      <th>rank</th>\n",
       "    </tr>\n",
       "  </thead>\n",
       "  <tbody>\n",
       "    <tr>\n",
       "      <th>0</th>\n",
       "      <td>2</td>\n",
       "      <td>Bob</td>\n",
       "      <td>1</td>\n",
       "      <td>80000</td>\n",
       "      <td>1</td>\n",
       "    </tr>\n",
       "    <tr>\n",
       "      <th>1</th>\n",
       "      <td>1</td>\n",
       "      <td>Alice</td>\n",
       "      <td>1</td>\n",
       "      <td>70000</td>\n",
       "      <td>2</td>\n",
       "    </tr>\n",
       "    <tr>\n",
       "      <th>2</th>\n",
       "      <td>3</td>\n",
       "      <td>Charlie</td>\n",
       "      <td>1</td>\n",
       "      <td>70000</td>\n",
       "      <td>2</td>\n",
       "    </tr>\n",
       "    <tr>\n",
       "      <th>3</th>\n",
       "      <td>4</td>\n",
       "      <td>David</td>\n",
       "      <td>2</td>\n",
       "      <td>90000</td>\n",
       "      <td>1</td>\n",
       "    </tr>\n",
       "    <tr>\n",
       "      <th>4</th>\n",
       "      <td>6</td>\n",
       "      <td>Frank</td>\n",
       "      <td>2</td>\n",
       "      <td>90000</td>\n",
       "      <td>1</td>\n",
       "    </tr>\n",
       "    <tr>\n",
       "      <th>5</th>\n",
       "      <td>5</td>\n",
       "      <td>Eve</td>\n",
       "      <td>2</td>\n",
       "      <td>85000</td>\n",
       "      <td>3</td>\n",
       "    </tr>\n",
       "  </tbody>\n",
       "</table>\n",
       "</div>"
      ],
      "text/plain": [
       "   employee_id     name  department_id  salary  rank\n",
       "0            2      Bob              1   80000     1\n",
       "1            1    Alice              1   70000     2\n",
       "2            3  Charlie              1   70000     2\n",
       "3            4    David              2   90000     1\n",
       "4            6    Frank              2   90000     1\n",
       "5            5      Eve              2   85000     3"
      ]
     },
     "execution_count": 35,
     "metadata": {},
     "output_type": "execute_result"
    }
   ],
   "source": [
    "# Run the query using the read_sql function\n",
    "df = pd.read_sql(rank_demo_query, conn)\n",
    "\n",
    "# Print the DataFrame\n",
    "df"
   ]
  },
  {
   "cell_type": "markdown",
   "metadata": {},
   "source": [
    "#### Explanation of the Result\n",
    "\n",
    "- For `department_id = 1`:\n",
    "  - ***Bob*** has the highest salary (80000), so he gets `rank = 1`.\n",
    "  - ***Alice*** and ***Charlie*** both have the *same* salary (70000). They ***both*** receive the *same* rank (`rank = 2`), and the next rank (`3`) is skipped.\n",
    "\n",
    "- For `department_id = 2`:\n",
    "  - ***David*** and ***Frank*** both have the highest salary (90000). They both receive the same rank (`rank = 1`), and the next rank (`2`) is skipped.\n",
    "  - ***Eve*** has the next highest salary (85000), so she gets `rank = 3`.\n",
    "\n",
    "This query helps in assigning ranks to rows within a partition, which can be useful for ranking, competition results, and other analytical purposes where ties need to be handled appropriately."
   ]
  },
  {
   "cell_type": "markdown",
   "metadata": {},
   "source": [
    "---"
   ]
  },
  {
   "cell_type": "markdown",
   "metadata": {},
   "source": [
    "### `LAG()` SQL Demo\n",
    "\n",
    "Provide access to a row at a given physical offset that comes before the current row."
   ]
  },
  {
   "cell_type": "code",
   "execution_count": 36,
   "metadata": {},
   "outputs": [],
   "source": [
    "lag_demo_query = '''\n",
    "SELECT \n",
    "    employee_id, \n",
    "    name, \n",
    "    department_id, \n",
    "    salary,\n",
    "    LAG(salary, 1) OVER (PARTITION BY department_id ORDER BY salary DESC) AS prev_salary\n",
    "FROM \n",
    "    employees;\n",
    "'''"
   ]
  },
  {
   "cell_type": "markdown",
   "metadata": {},
   "source": [
    "#### Explanation of the Query\n",
    "\n",
    "1. ***`SELECT` Clause***:\n",
    "   - `employee_id`, `name`, `department_id`, `salary`: These columns are selected from the employees table.\n",
    "   - `LAG(salary, 1) OVER (PARTITION BY department_id ORDER BY salary DESC) AS prev_salary`: This is the key part of the query where the `LAG()` function is used.\n",
    "- ***`LAG()` Function***:\n",
    "   - `LAG()` is a ***window function*** that provides access to a row at a given physical offset that comes before the current row.\n",
    "   - `salary`: This is the column from which the previous value is retrieved.\n",
    "   - `1`: This is the offset that specifies how many rows before the current row to look for the value.\n",
    "   - `OVER (PARTITION BY department_id ORDER BY salary DESC)`: This clause defines the *window* for the `LAG()` function.\n",
    "     - `PARTITION BY department_id`: This means that the rows are *partitioned* (grouped) by the `department_id` column. Each department will have its own sequence of previous salaries.\n",
    "     - `ORDER BY salary DESC`: Within each *partition* (department), the rows are ordered by the `salary` column in *descending* order.\n",
    "- ***Result:***\n",
    "   - The query will return a result set with the original columns (`employee_id`, `name`, `department_id`, `salary`) and an additional column `prev_salary` that contains the *salary* of the previous employee within their department, ordered by `salary` in *descending* order."
   ]
  },
  {
   "cell_type": "code",
   "execution_count": 37,
   "metadata": {},
   "outputs": [
    {
     "data": {
      "text/html": [
       "<div>\n",
       "<style scoped>\n",
       "    .dataframe tbody tr th:only-of-type {\n",
       "        vertical-align: middle;\n",
       "    }\n",
       "\n",
       "    .dataframe tbody tr th {\n",
       "        vertical-align: top;\n",
       "    }\n",
       "\n",
       "    .dataframe thead th {\n",
       "        text-align: right;\n",
       "    }\n",
       "</style>\n",
       "<table border=\"1\" class=\"dataframe\">\n",
       "  <thead>\n",
       "    <tr style=\"text-align: right;\">\n",
       "      <th></th>\n",
       "      <th>employee_id</th>\n",
       "      <th>name</th>\n",
       "      <th>department_id</th>\n",
       "      <th>salary</th>\n",
       "      <th>prev_salary</th>\n",
       "    </tr>\n",
       "  </thead>\n",
       "  <tbody>\n",
       "    <tr>\n",
       "      <th>0</th>\n",
       "      <td>2</td>\n",
       "      <td>Bob</td>\n",
       "      <td>1</td>\n",
       "      <td>80000</td>\n",
       "      <td>NaN</td>\n",
       "    </tr>\n",
       "    <tr>\n",
       "      <th>1</th>\n",
       "      <td>1</td>\n",
       "      <td>Alice</td>\n",
       "      <td>1</td>\n",
       "      <td>70000</td>\n",
       "      <td>80000.0</td>\n",
       "    </tr>\n",
       "    <tr>\n",
       "      <th>2</th>\n",
       "      <td>3</td>\n",
       "      <td>Charlie</td>\n",
       "      <td>1</td>\n",
       "      <td>70000</td>\n",
       "      <td>70000.0</td>\n",
       "    </tr>\n",
       "    <tr>\n",
       "      <th>3</th>\n",
       "      <td>4</td>\n",
       "      <td>David</td>\n",
       "      <td>2</td>\n",
       "      <td>90000</td>\n",
       "      <td>NaN</td>\n",
       "    </tr>\n",
       "    <tr>\n",
       "      <th>4</th>\n",
       "      <td>6</td>\n",
       "      <td>Frank</td>\n",
       "      <td>2</td>\n",
       "      <td>90000</td>\n",
       "      <td>90000.0</td>\n",
       "    </tr>\n",
       "    <tr>\n",
       "      <th>5</th>\n",
       "      <td>5</td>\n",
       "      <td>Eve</td>\n",
       "      <td>2</td>\n",
       "      <td>85000</td>\n",
       "      <td>90000.0</td>\n",
       "    </tr>\n",
       "  </tbody>\n",
       "</table>\n",
       "</div>"
      ],
      "text/plain": [
       "   employee_id     name  department_id  salary  prev_salary\n",
       "0            2      Bob              1   80000          NaN\n",
       "1            1    Alice              1   70000      80000.0\n",
       "2            3  Charlie              1   70000      70000.0\n",
       "3            4    David              2   90000          NaN\n",
       "4            6    Frank              2   90000      90000.0\n",
       "5            5      Eve              2   85000      90000.0"
      ]
     },
     "execution_count": 37,
     "metadata": {},
     "output_type": "execute_result"
    }
   ],
   "source": [
    "# Run the query using the read_sql function\n",
    "df = pd.read_sql(lag_demo_query, conn)\n",
    "\n",
    "# Print the DataFrame\n",
    "df"
   ]
  },
  {
   "cell_type": "markdown",
   "metadata": {},
   "source": [
    "#### Explanation of the Result\n",
    "\n",
    "- For `department_id = 1`:\n",
    "  - ***Bob*** has the highest salary (80000), so there is no previous salary for him and `prev_salary` is `NaN`.\n",
    "  - ***Alice*** and ***Charlie*** both have the *same* salary (70000). Since ***Alice*** appears first in the original data, the previous salary for ***Charlie*** is ***Alice's*** salary (70000).\n",
    "\n",
    "- For `department_id = 2`:\n",
    "  - ***David*** and ***Frank*** both have the highest salary (90000). Since ***David*** appears first in the original data, there is no previous salary for him and `prev_salary` is `NaN`\n",
    "  - The previous salary for ***Frank*** is ***David's*** salary (90000).\n",
    "  - ***Eve*** has the next highest salary (85000), so the previous salary for ***Eve*** is ***Frank's*** salary (90000).\n",
    "\n",
    "This query helps in accessing the value of a column from a previous row within a partition, which can be useful for calculating differences, trends, and other analytical purposes where you need to compare the current row with a previous row."
   ]
  },
  {
   "cell_type": "markdown",
   "metadata": {},
   "source": [
    "---\n",
    "\n",
    "---"
   ]
  },
  {
   "cell_type": "markdown",
   "metadata": {},
   "source": [
    "## Activities"
   ]
  },
  {
   "cell_type": "markdown",
   "metadata": {},
   "source": [
    "### Database Set Up\n",
    "\n"
   ]
  },
  {
   "cell_type": "code",
   "execution_count": 38,
   "metadata": {},
   "outputs": [
    {
     "data": {
      "text/plain": [
       "<sqlite3.Cursor at 0x29ddd4d6fc0>"
      ]
     },
     "execution_count": 38,
     "metadata": {},
     "output_type": "execute_result"
    }
   ],
   "source": [
    "# Create an in-memory SQLite database\n",
    "conn = sqlite3.connect(':memory:')\n",
    "cursor = conn.cursor()\n",
    "\n",
    "# Create the departments table\n",
    "cursor.execute('''CREATE TABLE departments (\n",
    "    department_id INTEGER PRIMARY KEY,\n",
    "    name TEXT\n",
    ");\n",
    "''')\n",
    "\n",
    "# Create the employees table\n",
    "cursor.execute('''\n",
    "CREATE TABLE employees (\n",
    "    employee_id INTEGER PRIMARY KEY,\n",
    "    name TEXT,\n",
    "    department_id INTEGER,\n",
    "    salary INTEGER\n",
    ");\n",
    "''')\n",
    "\n",
    "# Create the salaries table\n",
    "cursor.execute('''\n",
    "CREATE TABLE salaries (\n",
    "    employee_id INTEGER PRIMARY KEY,\n",
    "    salary INTEGER,\n",
    "    FOREIGN KEY (employee_id) REFERENCES employees(employee_id)\n",
    ");\n",
    "''')\n",
    "\n",
    "# Define department data\n",
    "departments = [\n",
    "    (1, 'HR'),\n",
    "    (2, 'Engineering'),\n",
    "    (3, 'Marketing')\n",
    "]\n",
    "\n",
    "# Insert data into the departments table\n",
    "cursor.executemany('INSERT INTO departments (department_id, name) VALUES (?, ?)', departments)\n",
    "\n",
    "# Define employee data\n",
    "employees = [\n",
    "    (1, 'Alice', 1, None),\n",
    "    (2, 'Bob', 1, 1),\n",
    "    (3, 'Charlie', 1, 1),\n",
    "    (4, 'David', 2, None),\n",
    "    (5, 'Eve', 2, 4),\n",
    "    (6, 'Frank', 2, 4),\n",
    "    (7, 'Grace', 3, None),\n",
    "    (8, 'Hank', 3, 7),\n",
    "    (9, 'Ivy', 3, 7)\n",
    "]\n",
    "\n",
    "# Insert employee data into the employees table\n",
    "cursor.executemany('INSERT INTO employees (employee_id, name, department_id, salary) VALUES (?, ?, ?, ?)', employees)\n",
    "\n",
    "# Define salary data\n",
    "salaries = [\n",
    "    (1, 70000),\n",
    "    (2, 80000),\n",
    "    (3, 70000),\n",
    "    (4, 90000),\n",
    "    (5, 85000),\n",
    "    (6, 90000),\n",
    "    (7, 95000),\n",
    "    (8, 75000),\n",
    "    (9, 72000)\n",
    "]\n",
    "\n",
    "# Insert salary data into the salaries table\n",
    "cursor.executemany('INSERT INTO salaries (employee_id, salary) VALUES (?, ?)', salaries)"
   ]
  },
  {
   "cell_type": "markdown",
   "metadata": {},
   "source": [
    "---"
   ]
  },
  {
   "cell_type": "markdown",
   "metadata": {},
   "source": [
    "### Activity 1 - `ROW_NUMBER()`\n",
    "\n",
    "#### User Story\n",
    "\n",
    "> **As a** Data Professional,  \n",
    "> **I want to** assign a unique sequential integer to each employee within their department based on their salary,  \n",
    "> **so that** I can identify the order of employees by salary within each department.\n",
    "\n",
    "#### Definition of Done\n",
    "\n",
    "- [ ] - Write a SQL query that assigns a unique sequential integer to each employee within their department based on their salary.\n",
    "- [ ] - Run the query and display the results in a Pandas DataFrame.\n",
    "- [ ] - Explain the query and the results in a markdown cell."
   ]
  },
  {
   "cell_type": "code",
   "execution_count": 39,
   "metadata": {},
   "outputs": [
    {
     "data": {
      "text/html": [
       "<div>\n",
       "<style scoped>\n",
       "    .dataframe tbody tr th:only-of-type {\n",
       "        vertical-align: middle;\n",
       "    }\n",
       "\n",
       "    .dataframe tbody tr th {\n",
       "        vertical-align: top;\n",
       "    }\n",
       "\n",
       "    .dataframe thead th {\n",
       "        text-align: right;\n",
       "    }\n",
       "</style>\n",
       "<table border=\"1\" class=\"dataframe\">\n",
       "  <thead>\n",
       "    <tr style=\"text-align: right;\">\n",
       "      <th></th>\n",
       "      <th>employee_id</th>\n",
       "      <th>name</th>\n",
       "      <th>department_id</th>\n",
       "      <th>salary</th>\n",
       "      <th>row_num</th>\n",
       "    </tr>\n",
       "  </thead>\n",
       "  <tbody>\n",
       "    <tr>\n",
       "      <th>0</th>\n",
       "      <td>2</td>\n",
       "      <td>Bob</td>\n",
       "      <td>1</td>\n",
       "      <td>80000</td>\n",
       "      <td>1</td>\n",
       "    </tr>\n",
       "    <tr>\n",
       "      <th>1</th>\n",
       "      <td>1</td>\n",
       "      <td>Alice</td>\n",
       "      <td>1</td>\n",
       "      <td>70000</td>\n",
       "      <td>2</td>\n",
       "    </tr>\n",
       "    <tr>\n",
       "      <th>2</th>\n",
       "      <td>3</td>\n",
       "      <td>Charlie</td>\n",
       "      <td>1</td>\n",
       "      <td>70000</td>\n",
       "      <td>3</td>\n",
       "    </tr>\n",
       "    <tr>\n",
       "      <th>3</th>\n",
       "      <td>4</td>\n",
       "      <td>David</td>\n",
       "      <td>2</td>\n",
       "      <td>90000</td>\n",
       "      <td>1</td>\n",
       "    </tr>\n",
       "    <tr>\n",
       "      <th>4</th>\n",
       "      <td>6</td>\n",
       "      <td>Frank</td>\n",
       "      <td>2</td>\n",
       "      <td>90000</td>\n",
       "      <td>2</td>\n",
       "    </tr>\n",
       "    <tr>\n",
       "      <th>5</th>\n",
       "      <td>5</td>\n",
       "      <td>Eve</td>\n",
       "      <td>2</td>\n",
       "      <td>85000</td>\n",
       "      <td>3</td>\n",
       "    </tr>\n",
       "    <tr>\n",
       "      <th>6</th>\n",
       "      <td>7</td>\n",
       "      <td>Grace</td>\n",
       "      <td>3</td>\n",
       "      <td>95000</td>\n",
       "      <td>1</td>\n",
       "    </tr>\n",
       "    <tr>\n",
       "      <th>7</th>\n",
       "      <td>8</td>\n",
       "      <td>Hank</td>\n",
       "      <td>3</td>\n",
       "      <td>75000</td>\n",
       "      <td>2</td>\n",
       "    </tr>\n",
       "    <tr>\n",
       "      <th>8</th>\n",
       "      <td>9</td>\n",
       "      <td>Ivy</td>\n",
       "      <td>3</td>\n",
       "      <td>72000</td>\n",
       "      <td>3</td>\n",
       "    </tr>\n",
       "  </tbody>\n",
       "</table>\n",
       "</div>"
      ],
      "text/plain": [
       "   employee_id     name  department_id  salary  row_num\n",
       "0            2      Bob              1   80000        1\n",
       "1            1    Alice              1   70000        2\n",
       "2            3  Charlie              1   70000        3\n",
       "3            4    David              2   90000        1\n",
       "4            6    Frank              2   90000        2\n",
       "5            5      Eve              2   85000        3\n",
       "6            7    Grace              3   95000        1\n",
       "7            8     Hank              3   75000        2\n",
       "8            9      Ivy              3   72000        3"
      ]
     },
     "execution_count": 39,
     "metadata": {},
     "output_type": "execute_result"
    }
   ],
   "source": [
    "# Define your query, run it, place the results in a DataFrame and output the DataFrame\n",
    "query1 = '''SELECT\n",
    "    e.employee_id, \n",
    "    e.name, \n",
    "    e.department_id, \n",
    "    s.salary,\n",
    "    ROW_NUMBER() OVER (PARTITION BY e.department_id ORDER BY s.salary DESC) AS row_num\n",
    "FROM \n",
    "    employees e\n",
    "JOIN \n",
    "    salaries s ON e.employee_id = s.employee_id;\n",
    "'''\n",
    "\n",
    "df1 = pd.read_sql(query1, conn)\n",
    "df1"
   ]
  },
  {
   "cell_type": "markdown",
   "metadata": {},
   "source": [
    "#### Explanation of Query and Results\n",
    "\n"
   ]
  },
  {
   "cell_type": "markdown",
   "metadata": {},
   "source": [
    "Groups by department id, and then assigns a number to each employee in the department based on their salary compared to the other employees. Given a tie between two employees, the employee that appeared first originally is assigned the smaller number."
   ]
  },
  {
   "cell_type": "markdown",
   "metadata": {},
   "source": [
    "---"
   ]
  },
  {
   "cell_type": "markdown",
   "metadata": {},
   "source": [
    "### Activity 2 - `RANK()`\n",
    "\n",
    "#### User Story\n",
    "\n",
    "> **As a** Data Professional,\n",
    "> **I want to** rank employees within their department based on their salary,\n",
    "> **so that** I can identify employees with the same salary and see their relative standing.\n",
    "\n",
    "#### Definition of Done\n",
    "\n",
    "- [ ] - Write a SQL query that ranks employees within their department based on their salary.\n",
    "- [ ] - Run the query and display the results in a Pandas DataFrame.\n",
    "- [ ] - Explain the query and the results in a markdown cell."
   ]
  },
  {
   "cell_type": "code",
   "execution_count": 40,
   "metadata": {},
   "outputs": [
    {
     "data": {
      "text/html": [
       "<div>\n",
       "<style scoped>\n",
       "    .dataframe tbody tr th:only-of-type {\n",
       "        vertical-align: middle;\n",
       "    }\n",
       "\n",
       "    .dataframe tbody tr th {\n",
       "        vertical-align: top;\n",
       "    }\n",
       "\n",
       "    .dataframe thead th {\n",
       "        text-align: right;\n",
       "    }\n",
       "</style>\n",
       "<table border=\"1\" class=\"dataframe\">\n",
       "  <thead>\n",
       "    <tr style=\"text-align: right;\">\n",
       "      <th></th>\n",
       "      <th>employee_id</th>\n",
       "      <th>name</th>\n",
       "      <th>department_id</th>\n",
       "      <th>salary</th>\n",
       "      <th>rank</th>\n",
       "    </tr>\n",
       "  </thead>\n",
       "  <tbody>\n",
       "    <tr>\n",
       "      <th>0</th>\n",
       "      <td>2</td>\n",
       "      <td>Bob</td>\n",
       "      <td>1</td>\n",
       "      <td>80000</td>\n",
       "      <td>1</td>\n",
       "    </tr>\n",
       "    <tr>\n",
       "      <th>1</th>\n",
       "      <td>1</td>\n",
       "      <td>Alice</td>\n",
       "      <td>1</td>\n",
       "      <td>70000</td>\n",
       "      <td>2</td>\n",
       "    </tr>\n",
       "    <tr>\n",
       "      <th>2</th>\n",
       "      <td>3</td>\n",
       "      <td>Charlie</td>\n",
       "      <td>1</td>\n",
       "      <td>70000</td>\n",
       "      <td>2</td>\n",
       "    </tr>\n",
       "    <tr>\n",
       "      <th>3</th>\n",
       "      <td>4</td>\n",
       "      <td>David</td>\n",
       "      <td>2</td>\n",
       "      <td>90000</td>\n",
       "      <td>1</td>\n",
       "    </tr>\n",
       "    <tr>\n",
       "      <th>4</th>\n",
       "      <td>6</td>\n",
       "      <td>Frank</td>\n",
       "      <td>2</td>\n",
       "      <td>90000</td>\n",
       "      <td>1</td>\n",
       "    </tr>\n",
       "    <tr>\n",
       "      <th>5</th>\n",
       "      <td>5</td>\n",
       "      <td>Eve</td>\n",
       "      <td>2</td>\n",
       "      <td>85000</td>\n",
       "      <td>3</td>\n",
       "    </tr>\n",
       "    <tr>\n",
       "      <th>6</th>\n",
       "      <td>7</td>\n",
       "      <td>Grace</td>\n",
       "      <td>3</td>\n",
       "      <td>95000</td>\n",
       "      <td>1</td>\n",
       "    </tr>\n",
       "    <tr>\n",
       "      <th>7</th>\n",
       "      <td>8</td>\n",
       "      <td>Hank</td>\n",
       "      <td>3</td>\n",
       "      <td>75000</td>\n",
       "      <td>2</td>\n",
       "    </tr>\n",
       "    <tr>\n",
       "      <th>8</th>\n",
       "      <td>9</td>\n",
       "      <td>Ivy</td>\n",
       "      <td>3</td>\n",
       "      <td>72000</td>\n",
       "      <td>3</td>\n",
       "    </tr>\n",
       "  </tbody>\n",
       "</table>\n",
       "</div>"
      ],
      "text/plain": [
       "   employee_id     name  department_id  salary  rank\n",
       "0            2      Bob              1   80000     1\n",
       "1            1    Alice              1   70000     2\n",
       "2            3  Charlie              1   70000     2\n",
       "3            4    David              2   90000     1\n",
       "4            6    Frank              2   90000     1\n",
       "5            5      Eve              2   85000     3\n",
       "6            7    Grace              3   95000     1\n",
       "7            8     Hank              3   75000     2\n",
       "8            9      Ivy              3   72000     3"
      ]
     },
     "execution_count": 40,
     "metadata": {},
     "output_type": "execute_result"
    }
   ],
   "source": [
    "# Define your query, run it, place the results in a DataFrame and output the DataFrame\n",
    "query2 = '''SELECT\n",
    "    e.employee_id, \n",
    "    e.name, \n",
    "    e.department_id, \n",
    "    s.salary,\n",
    "    RANK() OVER (PARTITION BY e.department_id ORDER BY s.salary DESC) AS rank\n",
    "FROM \n",
    "    employees e\n",
    "JOIN \n",
    "    salaries s ON e.employee_id = s.employee_id;\n",
    "'''\n",
    "df2 = pd.read_sql(query2, conn)\n",
    "df2"
   ]
  },
  {
   "cell_type": "markdown",
   "metadata": {},
   "source": [
    "#### Explanation of Query and Results\n",
    "\n"
   ]
  },
  {
   "cell_type": "markdown",
   "metadata": {},
   "source": [
    "Similar to ROW_NUM but in this case assigns the same rank to employees who are tied for salary."
   ]
  },
  {
   "cell_type": "markdown",
   "metadata": {},
   "source": [
    "---"
   ]
  },
  {
   "cell_type": "markdown",
   "metadata": {},
   "source": [
    "### Activity 3 - `LAG()`\n",
    "\n",
    "#### User Story\n",
    "\n",
    "> **As a** Data Professional,  \n",
    "> **I want to** access the previous employee's salary within each department based on their salary,  \n",
    "> **so that** I can analyse salary trends and differences.\n",
    "\n",
    "#### Definition of Done\n",
    "\n",
    "- [ ] - Write a SQL query that accesses the previous employee's salary within each department based on their salary.\n",
    "- [ ] - Run the query and display the results in a Pandas DataFrame.\n",
    "- [ ] - Explain the query and the results in a markdown cell."
   ]
  },
  {
   "cell_type": "code",
   "execution_count": 41,
   "metadata": {},
   "outputs": [
    {
     "data": {
      "text/html": [
       "<div>\n",
       "<style scoped>\n",
       "    .dataframe tbody tr th:only-of-type {\n",
       "        vertical-align: middle;\n",
       "    }\n",
       "\n",
       "    .dataframe tbody tr th {\n",
       "        vertical-align: top;\n",
       "    }\n",
       "\n",
       "    .dataframe thead th {\n",
       "        text-align: right;\n",
       "    }\n",
       "</style>\n",
       "<table border=\"1\" class=\"dataframe\">\n",
       "  <thead>\n",
       "    <tr style=\"text-align: right;\">\n",
       "      <th></th>\n",
       "      <th>employee_id</th>\n",
       "      <th>name</th>\n",
       "      <th>department_id</th>\n",
       "      <th>salary</th>\n",
       "      <th>prev_salary</th>\n",
       "    </tr>\n",
       "  </thead>\n",
       "  <tbody>\n",
       "    <tr>\n",
       "      <th>0</th>\n",
       "      <td>2</td>\n",
       "      <td>Bob</td>\n",
       "      <td>1</td>\n",
       "      <td>80000</td>\n",
       "      <td>NaN</td>\n",
       "    </tr>\n",
       "    <tr>\n",
       "      <th>1</th>\n",
       "      <td>1</td>\n",
       "      <td>Alice</td>\n",
       "      <td>1</td>\n",
       "      <td>70000</td>\n",
       "      <td>80000.0</td>\n",
       "    </tr>\n",
       "    <tr>\n",
       "      <th>2</th>\n",
       "      <td>3</td>\n",
       "      <td>Charlie</td>\n",
       "      <td>1</td>\n",
       "      <td>70000</td>\n",
       "      <td>70000.0</td>\n",
       "    </tr>\n",
       "    <tr>\n",
       "      <th>3</th>\n",
       "      <td>4</td>\n",
       "      <td>David</td>\n",
       "      <td>2</td>\n",
       "      <td>90000</td>\n",
       "      <td>NaN</td>\n",
       "    </tr>\n",
       "    <tr>\n",
       "      <th>4</th>\n",
       "      <td>6</td>\n",
       "      <td>Frank</td>\n",
       "      <td>2</td>\n",
       "      <td>90000</td>\n",
       "      <td>90000.0</td>\n",
       "    </tr>\n",
       "    <tr>\n",
       "      <th>5</th>\n",
       "      <td>5</td>\n",
       "      <td>Eve</td>\n",
       "      <td>2</td>\n",
       "      <td>85000</td>\n",
       "      <td>90000.0</td>\n",
       "    </tr>\n",
       "    <tr>\n",
       "      <th>6</th>\n",
       "      <td>7</td>\n",
       "      <td>Grace</td>\n",
       "      <td>3</td>\n",
       "      <td>95000</td>\n",
       "      <td>NaN</td>\n",
       "    </tr>\n",
       "    <tr>\n",
       "      <th>7</th>\n",
       "      <td>8</td>\n",
       "      <td>Hank</td>\n",
       "      <td>3</td>\n",
       "      <td>75000</td>\n",
       "      <td>95000.0</td>\n",
       "    </tr>\n",
       "    <tr>\n",
       "      <th>8</th>\n",
       "      <td>9</td>\n",
       "      <td>Ivy</td>\n",
       "      <td>3</td>\n",
       "      <td>72000</td>\n",
       "      <td>75000.0</td>\n",
       "    </tr>\n",
       "  </tbody>\n",
       "</table>\n",
       "</div>"
      ],
      "text/plain": [
       "   employee_id     name  department_id  salary  prev_salary\n",
       "0            2      Bob              1   80000          NaN\n",
       "1            1    Alice              1   70000      80000.0\n",
       "2            3  Charlie              1   70000      70000.0\n",
       "3            4    David              2   90000          NaN\n",
       "4            6    Frank              2   90000      90000.0\n",
       "5            5      Eve              2   85000      90000.0\n",
       "6            7    Grace              3   95000          NaN\n",
       "7            8     Hank              3   75000      95000.0\n",
       "8            9      Ivy              3   72000      75000.0"
      ]
     },
     "execution_count": 41,
     "metadata": {},
     "output_type": "execute_result"
    }
   ],
   "source": [
    "query3 = '''\n",
    "SELECT \n",
    "    e.employee_id, \n",
    "    e.name, \n",
    "    e.department_id, \n",
    "    s.salary,\n",
    "    LAG(s.salary, 1) OVER (PARTITION BY e.department_id ORDER BY s.salary DESC) AS prev_salary\n",
    "FROM \n",
    "    employees e\n",
    "JOIN \n",
    "    salaries s ON e.employee_id = s.employee_id;\n",
    "'''\n",
    "\n",
    "df3 = pd.read_sql(query3, conn)\n",
    "df3"
   ]
  },
  {
   "cell_type": "markdown",
   "metadata": {},
   "source": [
    "#### Explanation of Query and Results\n",
    "\n"
   ]
  },
  {
   "cell_type": "markdown",
   "metadata": {},
   "source": [
    "Just returns the salary from one row behind"
   ]
  },
  {
   "cell_type": "markdown",
   "metadata": {},
   "source": [
    "---"
   ]
  },
  {
   "cell_type": "markdown",
   "metadata": {},
   "source": [
    "## Query Solutions"
   ]
  },
  {
   "cell_type": "markdown",
   "metadata": {},
   "source": [
    "#### Activity 1"
   ]
  },
  {
   "cell_type": "code",
   "execution_count": null,
   "metadata": {
    "vscode": {
     "languageId": "sql"
    }
   },
   "outputs": [],
   "source": [
    "SELECT\n",
    "    e.employee_id, \n",
    "    e.name, \n",
    "    e.department_id, \n",
    "    s.salary,\n",
    "    ROW_NUMBER() OVER (PARTITION BY e.department_id ORDER BY s.salary DESC) AS row_num\n",
    "FROM \n",
    "    employees e\n",
    "JOIN \n",
    "    salaries s ON e.employee_id = s.employee_id;"
   ]
  },
  {
   "cell_type": "markdown",
   "metadata": {},
   "source": [
    "#### Activity 2"
   ]
  },
  {
   "cell_type": "code",
   "execution_count": null,
   "metadata": {
    "vscode": {
     "languageId": "sql"
    }
   },
   "outputs": [],
   "source": [
    "SELECT \n",
    "    e.employee_id, \n",
    "    e.name, \n",
    "    e.department_id, \n",
    "    s.salary,\n",
    "    RANK() OVER (PARTITION BY e.department_id ORDER BY s.salary DESC) AS rank\n",
    "FROM \n",
    "    employees e\n",
    "JOIN \n",
    "    salaries s ON e.employee_id = s.employee_id;"
   ]
  },
  {
   "cell_type": "markdown",
   "metadata": {},
   "source": [
    "#### Activity 3"
   ]
  },
  {
   "cell_type": "code",
   "execution_count": null,
   "metadata": {
    "vscode": {
     "languageId": "sql"
    }
   },
   "outputs": [],
   "source": [
    "SELECT \n",
    "    e.employee_id, \n",
    "    e.name, \n",
    "    e.department_id, \n",
    "    s.salary,\n",
    "    LAG(salary, 1) OVER (PARTITION BY e.department_id ORDER BY s.salary DESC) AS prev_salary\n",
    "FROM \n",
    "    employees e\n",
    "JOIN \n",
    "    salaries s ON e.employee_id = s.employee_id;"
   ]
  },
  {
   "cell_type": "markdown",
   "metadata": {},
   "source": [
    "---\n",
    "---"
   ]
  },
  {
   "cell_type": "markdown",
   "metadata": {},
   "source": [
    "## Could we do this all with Pandas?"
   ]
  },
  {
   "cell_type": "markdown",
   "metadata": {},
   "source": [
    "Absolutely! Pandas has a number of functions that can be used to achieve similar results to SQL window functions."
   ]
  },
  {
   "cell_type": "markdown",
   "metadata": {},
   "source": [
    "### Set Up a Database"
   ]
  },
  {
   "cell_type": "code",
   "execution_count": null,
   "metadata": {},
   "outputs": [],
   "source": [
    "# Create another in-memory SQLite database\n",
    "conn2 = sqlite3.connect(':memory:')\n",
    "cursor = conn2.cursor()\n",
    "\n",
    "# Create the employees table\n",
    "cursor.execute('''\n",
    "CREATE TABLE employees (\n",
    "    employee_id INTEGER PRIMARY KEY,\n",
    "    name TEXT,\n",
    "    department_id INTEGER,\n",
    "    salary INTEGER\n",
    ");\n",
    "''')\n",
    "\n",
    "# Populate the employees table with sample data\n",
    "employees = [\n",
    "    (1, 'Alice', 1, 70000),\n",
    "    (2, 'Bob', 1, 80000),\n",
    "    (3, 'Charlie', 1, 70000),\n",
    "    (4, 'David', 2, 90000),\n",
    "    (5, 'Eve', 2, 85000),\n",
    "    (6, 'Frank', 2, 90000)\n",
    "]\n",
    "\n",
    "cursor.executemany('INSERT INTO employees (employee_id, name, department_id, salary) VALUES (?, ?, ?, ?)', employees)\n",
    "\n"
   ]
  },
  {
   "cell_type": "markdown",
   "metadata": {
    "vscode": {
     "languageId": "sql"
    }
   },
   "source": [
    "### `ROW_NUMBER` Equivalent in Pandas\n"
   ]
  },
  {
   "cell_type": "code",
   "execution_count": null,
   "metadata": {},
   "outputs": [],
   "source": [
    "# Load the employees table into a DataFrame\n",
    "df = pd.read_sql('SELECT * FROM employees', conn2)\n",
    "df"
   ]
  },
  {
   "cell_type": "code",
   "execution_count": null,
   "metadata": {},
   "outputs": [],
   "source": [
    "# ROW_NUMBER() equivalent in Pandas of\n",
    "# SELECT employee_id, name, department_id, salary, ROW_NUMBER() OVER (PARTITION BY department_id ORDER BY salary DESC) AS row_num FROM employees;\n",
    "# Rank salaries within each department in descending order\n",
    "df['row_num'] = df.groupby('department_id')['salary'].rank(method='first', ascending=False).astype(int)\n",
    "\n",
    "# Sort by department_id and row_num to match the expected order\n",
    "df = df.sort_values(by=['department_id', 'row_num']).reset_index(drop=True)\n",
    "\n",
    "df"
   ]
  },
  {
   "cell_type": "markdown",
   "metadata": {},
   "source": [
    "### `RANK()` Equivalent in Pandas"
   ]
  },
  {
   "cell_type": "code",
   "execution_count": null,
   "metadata": {},
   "outputs": [],
   "source": [
    "# Load the employees table into a DataFrame\n",
    "df2 = pd.read_sql('SELECT * FROM employees', conn2)\n",
    "df2\n"
   ]
  },
  {
   "cell_type": "code",
   "execution_count": null,
   "metadata": {},
   "outputs": [],
   "source": [
    "# RANK() equivalent in Pandas\n",
    "# SELECT employee_id, name, department_id, salary, RANK() OVER (PARTITION BY department_id ORDER BY salary DESC) AS rank FROM employees;\n",
    "\n",
    "# Rank salaries within each department in descending order using 'min' method\n",
    "df2['rank'] = df2.groupby('department_id')['salary'].rank(method='min', ascending=False)\n",
    "\n",
    "# Sort by department_id and rank to match the expected order\n",
    "df2 = df2.sort_values(by=['department_id', 'rank']).reset_index(drop=True)\n",
    "\n",
    "df2"
   ]
  },
  {
   "cell_type": "markdown",
   "metadata": {},
   "source": [
    "---"
   ]
  },
  {
   "cell_type": "markdown",
   "metadata": {},
   "source": [
    "### `LAG()` Equivalent in Pandas"
   ]
  },
  {
   "cell_type": "code",
   "execution_count": null,
   "metadata": {},
   "outputs": [],
   "source": [
    "# Load the employees table into a DataFrame\n",
    "df3 = pd.read_sql('SELECT * FROM employees', conn2)\n",
    "df3\n"
   ]
  },
  {
   "cell_type": "code",
   "execution_count": null,
   "metadata": {},
   "outputs": [],
   "source": [
    "# LAG() equivalent in Pandas\n",
    "# # SELECT employee_id, name, department_id, salary, LAG(salary, 1) OVER (PARTITION BY department_id ORDER BY salary DESC) AS prev_salary FROM employees;\n",
    "\n",
    "# Calculate the previous salary within each department\n",
    "df3['prev_salary'] = df3.groupby('department_id')['salary'].shift(1)\n",
    "\n",
    "df3"
   ]
  }
 ],
 "metadata": {
  "kernelspec": {
   "display_name": ".venv",
   "language": "python",
   "name": "python3"
  },
  "language_info": {
   "codemirror_mode": {
    "name": "ipython",
    "version": 3
   },
   "file_extension": ".py",
   "mimetype": "text/x-python",
   "name": "python",
   "nbconvert_exporter": "python",
   "pygments_lexer": "ipython3",
   "version": "3.13.0"
  }
 },
 "nbformat": 4,
 "nbformat_minor": 2
}
