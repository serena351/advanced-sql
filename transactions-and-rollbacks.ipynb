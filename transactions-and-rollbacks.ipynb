{
 "cells": [
  {
   "cell_type": "markdown",
   "metadata": {},
   "source": [
    "![Digital Futures](https://github.com/digital-futures-academy/DataScienceMasterResources/blob/main/Resources/datascience-notebook-header.png?raw=true)"
   ]
  },
  {
   "cell_type": "markdown",
   "metadata": {},
   "source": [
    "## Learner Stories\n",
    "\n",
    "```txt\n",
    "As a DATA PROFESSIONAL,  \n",
    "I want to be able to use transactions and rollbacks,  \n",
    "so that I can ensure atomicity and consistency during database operations\n",
    "```"
   ]
  },
  {
   "cell_type": "markdown",
   "metadata": {},
   "source": [
    "## What are Transactions?\n",
    "\n",
    "A transaction is a single unit of work that is performed within a database management system against a database, and is treated in a coherent and reliable way independent of other transactions. A transaction generally represents any change in a database. Transactions are a fundamental concept in database management and are important for ensuring data integrity and consistency.\n",
    "\n",
    "Typically, a transaction consists of a series of operations that are executed as a single unit of work. These operations can include reading data from a database, writing data to a database, or both. Transactions are used to ensure that all operations within the transaction are completed successfully, or that none of the operations are completed at all."
   ]
  },
  {
   "cell_type": "markdown",
   "metadata": {},
   "source": [
    "---"
   ]
  },
  {
   "cell_type": "markdown",
   "metadata": {},
   "source": [
    "## Why Use Transactions?\n",
    "\n",
    "Transactions are used for a number of reasons:\n",
    "\n",
    "1. **Atomicity**: Transactions are atomic, meaning that they are either completed successfully or not at all. If any part of a transaction fails, the entire transaction is rolled back and the database is left in the state it was in before the transaction started.\n",
    "2. **Consistency**: Transactions ensure that the database remains in a consistent state before and after the transaction is completed. This means that the database is not left in an inconsistent state if a transaction fails.\n",
    "3. **Isolation**: Transactions are isolated from each other, meaning that the changes made by one transaction are not visible to other transactions until the transaction is completed. This ensures that transactions do not interfere with each other.\n",
    "4. **Durability**: Once a transaction is completed, the changes made by the transaction are permanent and cannot be undone. This ensures that the changes made by a transaction are not lost if the system fails.\n",
    "5. **Concurrency Control**: Transactions are used to manage concurrent access to the database by multiple users. Transactions ensure that multiple users can access the database at the same time without interfering with each other.\n",
    "6. **Recovery**: Transactions are used to recover from system failures. If a system fails during a transaction, the transaction can be rolled back and the database can be restored to a consistent state.\n",
    "7. **Performance**: Transactions can improve the performance of the database by reducing the number of disk writes and reads that are required to complete a series of operations.\n",
    "8. **Data Integrity**: Transactions ensure that the data in the database remains consistent and accurate. Transactions are used to enforce constraints and ensure that the data in the database is valid.\n",
    "9. **Audit Trails**: Transactions can be used to create an audit trail of changes made to the database. This can be useful for tracking changes and identifying errors or inconsistencies in the data.\n",
    "10. **Scalability**: Transactions can be used to scale the database by allowing multiple users to access the database at the same time. Transactions ensure that the database remains consistent and accurate even when accessed by multiple users."
   ]
  },
  {
   "cell_type": "markdown",
   "metadata": {},
   "source": [
    "---"
   ]
  },
  {
   "cell_type": "markdown",
   "metadata": {},
   "source": [
    "## Use Cases for Transactions\n",
    "\n",
    "Transactions are used in a wide range of applications and industries. Some common use cases for transactions include:\n",
    "\n",
    "1. **Banking**: Transactions are used to transfer money between accounts, update account balances, and process payments. Transactions are used to ensure that the money is transferred correctly and that the account balances are updated accurately.\n",
    "2. **E-commerce**: Transactions are used to process orders, update inventory, and track shipments. Transactions are used to ensure that orders are processed correctly and that inventory levels are updated accurately.\n",
    "3. **Healthcare**: Transactions are used to update patient records, process insurance claims, and track medical procedures. Transactions are used to ensure that patient records are updated correctly and that medical procedures are tracked accurately.\n",
    "4. **Manufacturing**: Transactions are used to update inventory, track production, and process orders. Transactions are used to ensure that inventory levels are updated correctly and that production is tracked accurately.\n",
    "5. **Transportation**: Transactions are used to track shipments, update schedules, and process payments. Transactions are used to ensure that shipments are tracked correctly and that schedules are updated accurately."
   ]
  },
  {
   "cell_type": "markdown",
   "metadata": {},
   "source": [
    "---"
   ]
  },
  {
   "cell_type": "markdown",
   "metadata": {},
   "source": [
    "## Demonstration: Transactions and Rollbacks in SQL\n",
    "\n",
    "Now we will demonstrate how transactions and rollbacks work in SQL using an SQLite database. Transactions allow you to execute a series of SQL statements as a single unit of work, ensuring data integrity. If any statement within the transaction fails, you can roll back the entire transaction to its previous state."
   ]
  },
  {
   "cell_type": "code",
   "execution_count": null,
   "metadata": {},
   "outputs": [],
   "source": [
    "# Import necessary libraries\n",
    "import sqlite3\n",
    "import pandas as pd"
   ]
  },
  {
   "cell_type": "markdown",
   "metadata": {},
   "source": [
    "---"
   ]
  },
  {
   "cell_type": "markdown",
   "metadata": {},
   "source": [
    "## Create a Sample Database\n",
    "\n",
    "First, let's create a sample database with a table called `accounts`."
   ]
  },
  {
   "cell_type": "code",
   "execution_count": null,
   "metadata": {},
   "outputs": [],
   "source": [
    "# Create a connection to the SQLite database\n",
    "conn = sqlite3.connect(':memory:')  # Use an in-memory database for demonstration\n",
    "cursor = conn.cursor()\n",
    "\n",
    "# Create the accounts table\n",
    "cursor.execute('''\n",
    "CREATE TABLE accounts (\n",
    "    account_id INTEGER PRIMARY KEY,\n",
    "    name TEXT,\n",
    "    balance INTEGER\n",
    ")''')\n",
    "\n",
    "# Insert initial data into the accounts table\n",
    "cursor.executemany('''\n",
    "INSERT INTO accounts (account_id, name, balance) VALUES (?, ?, ?)\n",
    "''', [\n",
    "    (1, 'Alice', 1000),\n",
    "    (2, 'Bob', 1500),\n",
    "    (3, 'Charlie', 2000)\n",
    "])\n",
    "\n",
    "# Commit the changes\n",
    "conn.commit()\n",
    "\n",
    "# Display the initial data\n",
    "df = pd.read_sql('SELECT * FROM accounts', conn)\n",
    "df"
   ]
  },
  {
   "cell_type": "markdown",
   "metadata": {},
   "source": [
    "---"
   ]
  },
  {
   "cell_type": "markdown",
   "metadata": {},
   "source": [
    "## Demonstrate Transactions and Rollbacks\n",
    "\n",
    "Next, we will demonstrate how to use transactions and rollbacks. We will perform a series of operations within a transaction and then roll back the transaction to its previous state if an error occurs."
   ]
  },
  {
   "cell_type": "code",
   "execution_count": null,
   "metadata": {},
   "outputs": [],
   "source": [
    "# Start a transaction\n",
    "try:\n",
    "    # Begin the transaction\n",
    "    conn.execute('BEGIN TRANSACTION;')\n",
    "    \n",
    "    # Perform a series of operations\n",
    "    cursor.execute('UPDATE accounts SET balance = balance - 200 WHERE name = \"Alice\";')\n",
    "    cursor.execute('UPDATE accounts SET balance = balance + 200 WHERE name = \"Bob\";')\n",
    "    \n",
    "    # Simulate an error\n",
    "    raise Exception('Simulated error')\n",
    "    \n",
    "    # Commit the transaction\n",
    "    conn.commit()\n",
    "except Exception as e:\n",
    "    # Roll back the transaction if an error occurs\n",
    "    print(f'Error occurred: {e}')\n",
    "    conn.rollback()  # conn.execute('ROLLBACK;') would also work\n",
    "\n",
    "# Display the data after the transaction\n",
    "df = pd.read_sql('SELECT * FROM accounts', conn)\n",
    "df"
   ]
  },
  {
   "cell_type": "markdown",
   "metadata": {},
   "source": [
    "As you can see, the balances of Alice and Bob remain unchanged because the transaction was rolled back due to the simulated error."
   ]
  },
  {
   "cell_type": "markdown",
   "metadata": {},
   "source": [
    "#### So what actually happened?\n",
    "\n",
    "1. We started a transaction using `BEGIN TRANSACTION`.\n",
    "   - `BEGIN TRANSACTION` marks the beginning of a ***transaction*** block.\n",
    "   - All subsequent SQL statements will be part of the transaction until we ***commit*** or ***roll back*** the transaction.\n",
    "   - No changes are made to the stored data until the transaction is committed.\n",
    "   - If an error occurs, we can handle this without partially changing the data so we know exactly what state our data is in.\n",
    "2. We performed a series of operations within the ***transaction***:\n",
    "   1. We updated Alice's balance.\n",
    "   2. We updated Bob's balance.\n",
    "3. Then...there was an error!\n",
    "   - We simulated an error by raising an Exception, meaning control passed to the `except` block.\n",
    "4. In the `except` block, we rolled back the transaction using `rollback()`.\n",
    "   - This undoes all changes made within the transaction.\n",
    "   - The database is restored to its state before the transaction began.\n",
    "   - No changes are made to the stored data.\n",
    "   - The transaction is terminated.\n",
    "   - We can handle the error and decide what to do next.\n",
    "   - We could have used the statement `conn.execute(\"ROLLBACK;\")` to roll back the transaction as well.\n",
    "\n",
    "Closing the connection to the database (by calling `conn.close()`) will also roll back any open transactions that have not been committed."
   ]
  },
  {
   "cell_type": "markdown",
   "metadata": {},
   "source": [
    "---"
   ]
  },
  {
   "cell_type": "markdown",
   "metadata": {},
   "source": [
    "## Successful Transaction\n",
    "\n",
    "Now, let's perform a successful transaction without any errors."
   ]
  },
  {
   "cell_type": "code",
   "execution_count": null,
   "metadata": {},
   "outputs": [],
   "source": [
    "# Start a transaction\n",
    "try:\n",
    "    # Begin the transaction\n",
    "    conn.execute('BEGIN TRANSACTION;')\n",
    "    \n",
    "    # Perform a series of operations\n",
    "    cursor.execute('UPDATE accounts SET balance = balance - 200 WHERE name = \"Alice\";')\n",
    "    cursor.execute('UPDATE accounts SET balance = balance + 200 WHERE name = \"Bob\";')\n",
    "    \n",
    "    # Commit the transaction\n",
    "    conn.commit()\n",
    "except Exception as e:\n",
    "    # Roll back the transaction if an error occurs\n",
    "    print(f'Error occurred: {e}')\n",
    "    conn.rollback()\n",
    "\n",
    "# Display the data after the transaction\n",
    "df = pd.read_sql('SELECT * FROM accounts', conn)\n",
    "df"
   ]
  },
  {
   "cell_type": "markdown",
   "metadata": {},
   "source": [
    "As you can see, the balances of Alice and Bob have been updated successfully because the transaction was committed without any errors."
   ]
  },
  {
   "cell_type": "markdown",
   "metadata": {},
   "source": [
    "#### So what actually happened?\n",
    "\n",
    "In this case, no error occurred, so the the changes made by the execute statements in the transaction were committed to the database by the `conn.commit()` statement.\n",
    "\n",
    "We could have also used the statement `conn.execute(\"COMMIT;\")` to commit the transaction."
   ]
  },
  {
   "cell_type": "markdown",
   "metadata": {},
   "source": [
    "---"
   ]
  },
  {
   "cell_type": "markdown",
   "metadata": {},
   "source": [
    "## Conclusion\n",
    "\n",
    "In this notebook, we demonstrated how to use transactions and rollbacks in SQL using an SQLite database. Transactions allow you to execute a series of SQL statements as a single unit of work, ensuring data integrity. If any statement within the transaction fails, you can roll back the entire transaction to its previous state."
   ]
  }
 ],
 "metadata": {
  "kernelspec": {
   "display_name": ".venv",
   "language": "python",
   "name": "python3"
  },
  "language_info": {
   "name": "python",
   "version": "3.13.0"
  }
 },
 "nbformat": 4,
 "nbformat_minor": 2
}
