{
 "cells": [
  {
   "cell_type": "markdown",
   "metadata": {},
   "source": [
    "![Digital Futures](https://github.com/digital-futures-academy/DataScienceMasterResources/blob/main/Resources/datascience-notebook-header.png?raw=true)"
   ]
  },
  {
   "cell_type": "markdown",
   "metadata": {},
   "source": [
    "## Learner Stories\n",
    "\n",
    "```txt\n",
    "As a DATA PROFESSIONAL,  \n",
    "I want to be able to use bulk data import techniques,  \n",
    "so that I can efficiently load large datasets into my database\n",
    "```"
   ]
  },
  {
   "cell_type": "markdown",
   "metadata": {},
   "source": [
    "# What is Bulk Data Importing?\n",
    "\n",
    "Bulk data importing is a technique used to load large datasets into a database. This is a common task for data professionals who work with large datasets.  Bulk data importing is important because it allows data professionals to efficiently load large datasets into a database. This can save time and resources, and make it easier to work with large datasets."
   ]
  },
  {
   "cell_type": "markdown",
   "metadata": {},
   "source": [
    "## What are the benefits of Bulk Data Importing?\n",
    "\n",
    "\n",
    "1. **Efficiency**:\n",
    "    - Bulk data importing is a fast and efficient way to load large datasets into a database. This can save time and resources, and make it easier to work with large datasets.\n",
    "2. **Scalability**:\n",
    "    - Bulk data importing is a scalable technique that can be used to load datasets of any size into a database. This makes it easy to work with large datasets and to scale up as needed.\n",
    "3. **Ease of use**:\n",
    "    - Bulk data importing is a simple and easy-to-use technique that can be used by data professionals of all skill levels. This makes it easy to load large datasets into a database without the need for complex tools or techniques.\n",
    "4. **Flexibility**:\n",
    "    - Bulk data importing is a flexible technique that can be used with a wide range of databases and data formats. This makes it easy to load large datasets into a database, regardless of the database or data format being used.\n",
    "5. **Reliability**:\n",
    "    - Bulk data importing is a reliable technique that can be used to load large datasets into a database without the risk of data loss or corruption. This makes it easy to work with large datasets and to ensure that the data is loaded correctly.\n",
    "6. **Cost-effective**:\n",
    "    - Bulk data importing is a cost-effective technique that can save time and resources. This makes it easy to work with large datasets and to load data into a database without the need for expensive tools or techniques.\n",
    "7. **Performance**:\n",
    "    - Bulk data importing is a high-performance technique that can be used to load large datasets into a database quickly and efficiently. This makes it easy to work with large datasets and to load data into a database without the need for complex tools or techniques.\n",
    "8. **Security**:\n",
    "    - Bulk data importing is a secure technique that can be used to load large datasets into a database without the risk of data loss or corruption. This makes it easy to work with large datasets and to ensure that the data is loaded correctly.\n",
    "9. **Compatibility**:\n",
    "    - Bulk data importing is a compatible technique that can be used with a wide range of databases and data formats. This makes it easy to load large datasets into a database, regardless of the database or data format being used.\n",
    "10. **Automation**:\n",
    "    - Bulk data importing is an automated technique that can be used to load large datasets into a database without the need for manual intervention. This makes it easy to work with large datasets and to load data into a database quickly and efficiently.\n",
    "\n",
    "\n"
   ]
  },
  {
   "cell_type": "markdown",
   "metadata": {},
   "source": [
    "---"
   ]
  },
  {
   "cell_type": "markdown",
   "metadata": {},
   "source": [
    "## What are the Best Practices for Bulk Data Importing?\n",
    "\n",
    "1. ***Use Efficient Data Formats***\n",
    "    - **CSV**: Common and easy to use, but can be inefficient for large datasets.\n",
    "    - **Parquet/ORC**: Columnar storage formats that are highly efficient for large-scale data processing.\n",
    "    - **Avro**: A row-based storage format that is compact and efficient for serialization.\n",
    "2. ***Batch Processing***\n",
    "   - **Batch Size**: Import data in batches to avoid overwhelming the database and to manage memory usage.\n",
    "   - **Parallel Processing**: Use parallel processing to speed up the import process.\n",
    "3. ***Index Management***\n",
    "    - **Disable Indexes**: Temporarily disable indexes during bulk import to speed up the process.\n",
    "    - **Rebuild Indexes**: Rebuild indexes after the import is complete to ensure data integrity and query performance.\n",
    "4. ***Data Validation and Cleansing***\n",
    "    - **Pre-Validation**: Validate data before import to catch errors early.\n",
    "    - **Post-Validation**: Validate data after import to ensure data integrity.\n",
    "5. ***Error Handling and Logging***\n",
    "    - **Error Logging**: Log errors during import to identify and fix issues.\n",
    "    - **Retry Mechanism**: Implement a retry mechanism for transient errors.\n",
    "6. ***Transaction Management***\n",
    "    - **Transactions**: Use transactions to ensure data consistency and to rollback in case of errors."
   ]
  },
  {
   "cell_type": "markdown",
   "metadata": {},
   "source": [
    "---"
   ]
  },
  {
   "cell_type": "markdown",
   "metadata": {},
   "source": [
    "## Demonstration: Bulk Data Importing with Python"
   ]
  },
  {
   "cell_type": "markdown",
   "metadata": {},
   "source": [
    "### Set Up the Environment and Dataset"
   ]
  },
  {
   "cell_type": "code",
   "execution_count": 7,
   "metadata": {},
   "outputs": [],
   "source": [
    "import pandas as pd\n",
    "from sqlalchemy import create_engine, text\n",
    "import sqlite3"
   ]
  },
  {
   "cell_type": "code",
   "execution_count": 8,
   "metadata": {},
   "outputs": [],
   "source": [
    "data = {\n",
    "    'customer_id': range(1, 10001),  # 10,000 rows\n",
    "    'name': [f'Customer {i}' for i in range(1, 10001)],\n",
    "    'email': [f'customer{i}@example.com' for i in range(1, 10001)],\n",
    "    'city': ['City A' if i % 2 == 0 else 'City B' for i in range(1, 10001)]\n",
    "}"
   ]
  },
  {
   "cell_type": "code",
   "execution_count": 9,
   "metadata": {},
   "outputs": [
    {
     "data": {
      "text/html": [
       "<div>\n",
       "<style scoped>\n",
       "    .dataframe tbody tr th:only-of-type {\n",
       "        vertical-align: middle;\n",
       "    }\n",
       "\n",
       "    .dataframe tbody tr th {\n",
       "        vertical-align: top;\n",
       "    }\n",
       "\n",
       "    .dataframe thead th {\n",
       "        text-align: right;\n",
       "    }\n",
       "</style>\n",
       "<table border=\"1\" class=\"dataframe\">\n",
       "  <thead>\n",
       "    <tr style=\"text-align: right;\">\n",
       "      <th></th>\n",
       "      <th>customer_id</th>\n",
       "      <th>name</th>\n",
       "      <th>email</th>\n",
       "      <th>city</th>\n",
       "    </tr>\n",
       "  </thead>\n",
       "  <tbody>\n",
       "    <tr>\n",
       "      <th>0</th>\n",
       "      <td>1</td>\n",
       "      <td>Customer 1</td>\n",
       "      <td>customer1@example.com</td>\n",
       "      <td>City B</td>\n",
       "    </tr>\n",
       "    <tr>\n",
       "      <th>1</th>\n",
       "      <td>2</td>\n",
       "      <td>Customer 2</td>\n",
       "      <td>customer2@example.com</td>\n",
       "      <td>City A</td>\n",
       "    </tr>\n",
       "    <tr>\n",
       "      <th>2</th>\n",
       "      <td>3</td>\n",
       "      <td>Customer 3</td>\n",
       "      <td>customer3@example.com</td>\n",
       "      <td>City B</td>\n",
       "    </tr>\n",
       "    <tr>\n",
       "      <th>3</th>\n",
       "      <td>4</td>\n",
       "      <td>Customer 4</td>\n",
       "      <td>customer4@example.com</td>\n",
       "      <td>City A</td>\n",
       "    </tr>\n",
       "    <tr>\n",
       "      <th>4</th>\n",
       "      <td>5</td>\n",
       "      <td>Customer 5</td>\n",
       "      <td>customer5@example.com</td>\n",
       "      <td>City B</td>\n",
       "    </tr>\n",
       "  </tbody>\n",
       "</table>\n",
       "</div>"
      ],
      "text/plain": [
       "   customer_id        name                  email    city\n",
       "0            1  Customer 1  customer1@example.com  City B\n",
       "1            2  Customer 2  customer2@example.com  City A\n",
       "2            3  Customer 3  customer3@example.com  City B\n",
       "3            4  Customer 4  customer4@example.com  City A\n",
       "4            5  Customer 5  customer5@example.com  City B"
      ]
     },
     "execution_count": 9,
     "metadata": {},
     "output_type": "execute_result"
    }
   ],
   "source": [
    "# Put the data into a DataFrame\n",
    "df = pd.DataFrame(data)\n",
    "df.head()"
   ]
  },
  {
   "cell_type": "code",
   "execution_count": 10,
   "metadata": {},
   "outputs": [],
   "source": [
    "# Create an SQL in-memory database\n",
    "engine = create_engine('sqlite:///:memory:')"
   ]
  },
  {
   "cell_type": "markdown",
   "metadata": {},
   "source": [
    "---"
   ]
  },
  {
   "cell_type": "markdown",
   "metadata": {},
   "source": [
    "## Steps to Import the Data in Bulk"
   ]
  },
  {
   "cell_type": "markdown",
   "metadata": {},
   "source": [
    "### Step 1: Create a table to import the data to\n",
    "\n",
    "Remember that this should reflect the structure of the data you are importing."
   ]
  },
  {
   "cell_type": "code",
   "execution_count": 11,
   "metadata": {},
   "outputs": [],
   "source": [
    "# Create the customers table\n",
    "with engine.connect() as conn:\n",
    "    conn.execute(text('''\n",
    "        CREATE TABLE customers (\n",
    "            customer_id INT PRIMARY KEY,\n",
    "            name VARCHAR(255),\n",
    "            email VARCHAR(255),\n",
    "            city VARCHAR(255)\n",
    "        );\n",
    "    '''))"
   ]
  },
  {
   "cell_type": "markdown",
   "metadata": {},
   "source": [
    "### Step 2: Bulk import the data into the database"
   ]
  },
  {
   "cell_type": "code",
   "execution_count": 12,
   "metadata": {},
   "outputs": [
    {
     "data": {
      "text/plain": [
       "10000"
      ]
     },
     "execution_count": 12,
     "metadata": {},
     "output_type": "execute_result"
    }
   ],
   "source": [
    "# Bulk import data into the database\n",
    "df.to_sql('customers', engine, if_exists='append', index=False, method='multi', chunksize=1000)"
   ]
  },
  {
   "cell_type": "markdown",
   "metadata": {},
   "source": [
    "#### `df.to_sql()`?\n",
    "\n",
    "The `to_sql()` method in pandas allows you to write a DataFrame to a SQL database. This method is a convenient way to import data from a DataFrame into a SQL database.\n",
    "\n",
    "The parameters to this function are:\n",
    "\n",
    "- `name`: The name of the table to create in the database.\n",
    "- `con`: The database connection object (in this case `engine`).\n",
    "- `if_exists`: What to do if the table already exists. Options are `'fail'`, `'replace'`, `'append'`.\n",
    "- `index`: Whether to write the DataFrame index as a column in the table.\n",
    "- `method`: The method to use for inserting data. Options are `'multi'`, `'single'`.\n",
    "- `chunksize`: The number of rows to write at a time.\n",
    "\n",
    "#### Is `chunksize` important?\n",
    "\n",
    "Yes, `chunksize` is important when importing large datasets. It allows you to import the data in chunks, which can help to manage memory usage and speed up the import process.\n",
    "\n",
    "#### What are suggested values for `chunksize`?\n",
    "\n",
    "The optimal value for `chunksize` depends on the size of the dataset and the available memory. A good starting point is to use a value that is a multiple of the number of rows in the dataset.  This is because the `chunksize` parameter specifies the number of rows to write at a time, so a value that is a multiple of the number of rows in the dataset will allow the data to be imported in chunks that are evenly divided.\n",
    "\n",
    "#### Is df_sql() Transactional?\n",
    "\n",
    "Yes, the `to_sql()` method in pandas is transactional. This means that if an error occurs during the import process, the changes will be rolled back and the data will not be imported."
   ]
  },
  {
   "cell_type": "markdown",
   "metadata": {},
   "source": [
    "### Step 3: Verify the data has been imported"
   ]
  },
  {
   "cell_type": "code",
   "execution_count": 14,
   "metadata": {},
   "outputs": [
    {
     "name": "stdout",
     "output_type": "stream",
     "text": [
      "Total rows imported: 10000\n",
      "(1, 'Customer 1', 'customer1@example.com', 'City B')\n",
      "(2, 'Customer 2', 'customer2@example.com', 'City A')\n",
      "(3, 'Customer 3', 'customer3@example.com', 'City B')\n",
      "(4, 'Customer 4', 'customer4@example.com', 'City A')\n",
      "(5, 'Customer 5', 'customer5@example.com', 'City B')\n"
     ]
    }
   ],
   "source": [
    "# Verify the import by querying the database\n",
    "with engine.connect() as conn:\n",
    "    result = conn.execute(text('SELECT COUNT(*) FROM customers'))\n",
    "    print(f'Total rows imported: {result.fetchone()[0]}')\n",
    "\n",
    "    # Optionally, display a few rows to verify\n",
    "    result = conn.execute(text('SELECT * FROM customers LIMIT 5'))\n",
    "    for row in result:\n",
    "        print(row)\n"
   ]
  },
  {
   "cell_type": "markdown",
   "metadata": {},
   "source": [
    "## Summary\n",
    "\n",
    "- ***Efficient Data Formats***: Use efficient data formats like Parquet, ORC, or Avro for large-scale data processing.\n",
    "- ***Batch Processing***: Import data in batches and use parallel processing to speed up the import process.\n",
    "- ***Index Management***: Disable indexes during import and rebuild them afterward to improve performance.\n",
    "- ***Data Validation and Cleansing***: Validate data before and after import to ensure data integrity.\n",
    "- ***Error Handling and Logging***: Implement error logging and retry mechanisms to handle errors during import.\n",
    "- ***Transaction Management***: Use transactions to ensure data consistency and rollback in case of errors."
   ]
  },
  {
   "cell_type": "markdown",
   "metadata": {},
   "source": [
    "---\n",
    "\n",
    "---"
   ]
  },
  {
   "cell_type": "markdown",
   "metadata": {},
   "source": [
    "## Extended Example"
   ]
  },
  {
   "cell_type": "code",
   "execution_count": 15,
   "metadata": {},
   "outputs": [
    {
     "name": "stderr",
     "output_type": "stream",
     "text": [
      "2024-12-12 12:06:06,061 - INFO - Data imported successfully\n",
      "2024-12-12 12:06:06,064 - INFO - Total rows imported: 10000\n",
      "2024-12-12 12:06:06,065 - INFO - (1, 'Customer 1', 'customer1@example.com', 'City B')\n",
      "2024-12-12 12:06:06,065 - INFO - (2, 'Customer 2', 'customer2@example.com', 'City A')\n",
      "2024-12-12 12:06:06,066 - INFO - (3, 'Customer 3', 'customer3@example.com', 'City B')\n",
      "2024-12-12 12:06:06,066 - INFO - (4, 'Customer 4', 'customer4@example.com', 'City A')\n",
      "2024-12-12 12:06:06,066 - INFO - (5, 'Customer 5', 'customer5@example.com', 'City B')\n"
     ]
    }
   ],
   "source": [
    "import pandas as pd\n",
    "from sqlalchemy import create_engine, text\n",
    "import logging\n",
    "\n",
    "# Set up logging\n",
    "logging.basicConfig(level=logging.INFO, format='%(asctime)s - %(levelname)s - %(message)s')\n",
    "\n",
    "# Generate a larger dataset\n",
    "data = {\n",
    "    'customer_id': range(1, 10001),  # 10,000 rows\n",
    "    'name': [f'Customer {i}' for i in range(1, 10001)],\n",
    "    'email': [f'customer{i}@example.com' for i in range(1, 10001)],\n",
    "    'city': ['City A' if i % 2 == 0 else 'City B' for i in range(1, 10001)]\n",
    "}\n",
    "df = pd.DataFrame(data)\n",
    "\n",
    "# Data validation and cleansing\n",
    "def validate_and_cleanse(df):\n",
    "    # Example validation: Ensure no missing values\n",
    "    if df.isnull().values.any():\n",
    "        raise ValueError(\"Data contains missing values\")\n",
    "    # Example cleansing: Convert all email addresses to lowercase\n",
    "    df['email'] = df['email'].str.lower()\n",
    "    return df\n",
    "\n",
    "try:\n",
    "    df = validate_and_cleanse(df)\n",
    "except ValueError as e:\n",
    "    logging.error(f\"Data validation error: {e}\")\n",
    "    raise\n",
    "\n",
    "# Create an SQLite in-memory database connection\n",
    "engine = create_engine('sqlite:///:memory:')\n",
    "\n",
    "# Create the customers table\n",
    "with engine.connect() as conn:\n",
    "    conn.execute(text('''\n",
    "        CREATE TABLE customers (\n",
    "            customer_id INT PRIMARY KEY,\n",
    "            name VARCHAR(255),\n",
    "            email VARCHAR(255),\n",
    "            city VARCHAR(255)\n",
    "        );\n",
    "    '''))\n",
    "\n",
    "    # Disable indexes (if applicable)\n",
    "    # Note: SQLite does not support disabling indexes, but this is a placeholder for databases that do\n",
    "    # conn.execute(text('ALTER INDEX idx_customers_email DISABLE;'))\n",
    "\n",
    "# Bulk import data into the database\n",
    "try:\n",
    "    df.to_sql('customers', engine, if_exists='append', index=False, method='multi', chunksize=1000)\n",
    "    logging.info(\"Data imported successfully\")\n",
    "except Exception as e:\n",
    "    logging.error(f\"Error during data import: {e}\")\n",
    "    raise\n",
    "\n",
    "# Rebuild indexes (if applicable)\n",
    "with engine.connect() as conn:\n",
    "    # Note: SQLite does not support rebuilding indexes, but this is a placeholder for databases that do\n",
    "    # conn.execute(text('REINDEX TABLE customers;'))\n",
    "\n",
    "    # Verify the import by querying the database\n",
    "    result = conn.execute(text('SELECT COUNT(*) FROM customers'))\n",
    "    logging.info(f'Total rows imported: {result.fetchone()[0]}')\n",
    "\n",
    "    # Optionally, display a few rows to verify\n",
    "    result = conn.execute(text('SELECT * FROM customers LIMIT 5'))\n",
    "    for row in result:\n",
    "        logging.info(row)"
   ]
  }
 ],
 "metadata": {
  "kernelspec": {
   "display_name": ".venv",
   "language": "python",
   "name": "python3"
  },
  "language_info": {
   "codemirror_mode": {
    "name": "ipython",
    "version": 3
   },
   "file_extension": ".py",
   "mimetype": "text/x-python",
   "name": "python",
   "nbconvert_exporter": "python",
   "pygments_lexer": "ipython3",
   "version": "3.13.1"
  }
 },
 "nbformat": 4,
 "nbformat_minor": 2
}
